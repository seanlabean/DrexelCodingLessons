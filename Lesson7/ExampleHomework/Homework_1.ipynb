{
 "cells": [
  {
   "cell_type": "markdown",
   "metadata": {},
   "source": [
    "# Nonlinear Dynamics Homework #1"
   ]
  },
  {
   "cell_type": "markdown",
   "metadata": {},
   "source": [
    "#####  Problem #1: Construct 10,000 random numbers and bin them in intervals of length 0.01. Plot the histogram of this."
   ]
  },
  {
   "cell_type": "markdown",
   "metadata": {},
   "source": [
    "Okay, so Python has a nice in that the histogram command bins for us. But first I'll make 10,000 random numbers, using the best random number generator in Python. It makes random numbers based on the system CPU that are suitable for cryptography (see https://docs.python.org/2/library/os.html#os.urandom for details). Note that the generator defaults to the range $[0,1)$. The best I can do to make it $(0,1)$ is to use my machince precision to get the edges right. Hopefully that's okay."
   ]
  },
  {
   "cell_type": "code",
   "execution_count": 1,
   "metadata": {},
   "outputs": [],
   "source": [
    "import random\n",
    "import numpy as np\n",
    "import matplotlib\n",
    "import matplotlib.pyplot as plt\n",
    "import sys\n",
    "%matplotlib inline"
   ]
  },
  {
   "cell_type": "code",
   "execution_count": 2,
   "metadata": {},
   "outputs": [
    {
     "name": "stdout",
     "output_type": "stream",
     "text": [
      "[ 0.6090817   0.02900779  0.62646369 ...,  0.26555126  0.26411794\n",
      "  0.0120324 ]\n"
     ]
    }
   ],
   "source": [
    "rands = np.zeros(10000)\n",
    "\n",
    "foo = random.SystemRandom()\n",
    "\n",
    "for i in range(10000):\n",
    "    \n",
    "    rands[i] = foo.uniform(0+sys.float_info.epsilon, 1.0 - sys.float_info.epsilon)\n",
    "    \n",
    "print rands"
   ]
  },
  {
   "cell_type": "markdown",
   "metadata": {},
   "source": [
    "Okay, this looks good. Now lets bin and histogram it using the command hist from pyplot. Note that I pass it the number of bins I want so that python will automatically make their width 0.01. Just to be sure, we'll print the bin sizes (which I call bins here) to check."
   ]
  },
  {
   "cell_type": "code",
   "execution_count": 7,
   "metadata": {},
   "outputs": [],
   "source": [
    "def histplot(data):    \n",
    "    \n",
    "    font = {'family' : 'monospace',\n",
    "            'weight' : 'bold',\n",
    "            'size'   : 18}\n",
    "\n",
    "    matplotlib.rc('font', **font)\n",
    "\n",
    "    num_bins = 10000*0.01   # Set the number of bins I want.\n",
    "\n",
    "    # Bin the data and plot the histogram. Note this function returns the binned data (measurement), the bins themselves (bins)\n",
    "    # and the patches that python used to construct the histogram, which we don't care about here.\n",
    "\n",
    "    plt.figure(figsize=(10,8), dpi=80)\n",
    "    plt.title('Histogram of binned numbers')\n",
    "    plt.xlabel('Bin value')\n",
    "    plt.ylabel('Number of numbers in bin')\n",
    "\n",
    "    [measurements, bins, patches] = plt.hist(data, bins=num_bins, range=[0.0, 1.0])\n",
    "\n",
    "    print \"The number of bins is\", num_bins\n",
    "\n",
    "    print \"The bins are:\"\n",
    "\n",
    "    print bins  # Check that the bin sizes are correct.\n",
    "\n",
    "    plt.show()\n",
    "    \n",
    "    return measurements, bins"
   ]
  },
  {
   "cell_type": "code",
   "execution_count": 8,
   "metadata": {},
   "outputs": [
    {
     "name": "stdout",
     "output_type": "stream",
     "text": [
      "The number of bins is 100.0\n",
      "The bins are:\n",
      "[ 0.    0.01  0.02  0.03  0.04  0.05  0.06  0.07  0.08  0.09  0.1   0.11\n",
      "  0.12  0.13  0.14  0.15  0.16  0.17  0.18  0.19  0.2   0.21  0.22  0.23\n",
      "  0.24  0.25  0.26  0.27  0.28  0.29  0.3   0.31  0.32  0.33  0.34  0.35\n",
      "  0.36  0.37  0.38  0.39  0.4   0.41  0.42  0.43  0.44  0.45  0.46  0.47\n",
      "  0.48  0.49  0.5   0.51  0.52  0.53  0.54  0.55  0.56  0.57  0.58  0.59\n",
      "  0.6   0.61  0.62  0.63  0.64  0.65  0.66  0.67  0.68  0.69  0.7   0.71\n",
      "  0.72  0.73  0.74  0.75  0.76  0.77  0.78  0.79  0.8   0.81  0.82  0.83\n",
      "  0.84  0.85  0.86  0.87  0.88  0.89  0.9   0.91  0.92  0.93  0.94  0.95\n",
      "  0.96  0.97  0.98  0.99  1.  ]\n"
     ]
    },
    {
     "data": {
      "image/png": "[encoded data removed]",
      "text/plain": [
       "<matplotlib.figure.Figure at 0x7f0014543fd0>"
      ]
     },
     "metadata": {},
     "output_type": "display_data"
    }
   ],
   "source": [
    "[measurements, bins] = histplot(rands)"
   ]
  },
  {
   "cell_type": "markdown",
   "metadata": {},
   "source": [
    "Now for the Graduate Student part of this question. We would expect that the # in any bin would be 10,000/num_bins=100. To check this, we can calculate the $\\chi^2$ of this and see if any deviation from this is small or not. To calculate $\\chi^2$ we do:\n",
    "\n",
    "\\begin{align} \\chi^2 = \\sum_i d_i^2/e_i \\\\ d_i = o_i - e_i \\end{align}\n",
    "\n",
    "where $e_i$ is each expected measurement, $o_i$ is the actual measurement (here what the code returned) and $d_i$ is the deviation of the actual observed measures from the expected measures. So doing this in the code enviroment:"
   ]
  },
  {
   "cell_type": "code",
   "execution_count": 10,
   "metadata": {},
   "outputs": [
    {
     "name": "stdout",
     "output_type": "stream",
     "text": [
      "Your expected measurement is 100\n",
      "Your Chi^2 is 93.28\n",
      "Your confidence level that the distribution is uniform is 0.715051061691\n"
     ]
    }
   ],
   "source": [
    "num_bins = 100\n",
    "expected = 10000/num_bins\n",
    "\n",
    "print \"Your expected measurement is\", expected\n",
    "\n",
    "deviations = measurements - expected\n",
    "\n",
    "chi_2 = 0.0\n",
    "\n",
    "for i in range(len(deviations)):\n",
    "    \n",
    "    chi_2 = chi_2 + deviations[i]**2.0/expected\n",
    "    \n",
    "print \"Your Chi^2 is\", chi_2\n",
    "\n",
    "above90 = (chi_2 - 117.407)/117.407\n",
    "above90 = 0.90 + 0.90*above90\n",
    "\n",
    "print \"Your confidence level that the distribution is uniform is\", above90\n"
   ]
  },
  {
   "cell_type": "markdown",
   "metadata": {},
   "source": [
    "The number of degrees of freedom here is the number of bins, 100, minus 1 for the $\\chi^2$ test. Looking then at the table for a $\\chi^2$ distribution at NIST (http://www.itl.nist.gov/div898/handbook/eda/section3/eda3674.htm) I see for 99 degrees of freedom that this is a uniform distribution with an upper value of 117.407 for 90% confidence and 123.225 for 95% confidence. 95% is the \"standard\" assumption about the accuracy of the measurements, but if you want to be safer even the 90% confidence passes the $\\chi^2$ test. The noise is indeed random."
   ]
  },
  {
   "cell_type": "markdown",
   "metadata": {},
   "source": [
    "##### Problem #2 Construct 10,000 iterations of the standard logistic map $x'= \\lambda x(1-x)$ for $x \\in [0,1]$ with $\\ 3.7 \\le lambda \\le 4.0$ and bin them in intervals of 0.01. Plot the histogram of this."
   ]
  },
  {
   "cell_type": "markdown",
   "metadata": {},
   "source": [
    "Okay, no problem. I pick $\\lambda=3.85$ to be right in the middle. First I'll define the function:"
   ]
  },
  {
   "cell_type": "code",
   "execution_count": 45,
   "metadata": {},
   "outputs": [],
   "source": [
    "def logistic(x,lam):\n",
    "    \n",
    "    x1 = lam*x*(1-x)\n",
    "    return x1"
   ]
  },
  {
   "cell_type": "markdown",
   "metadata": {},
   "source": [
    "Then we will run it on the same random number generator."
   ]
  },
  {
   "cell_type": "code",
   "execution_count": 49,
   "metadata": {},
   "outputs": [],
   "source": [
    "x_prime = np.zeros(10000)\n",
    "lamb = 3.85\n",
    "\n",
    "\n",
    "for i in range(10000):\n",
    "    \n",
    "    x = foo.uniform(0.0, 1.0 + sys.float_info.epsilon)\n",
    "    x_prime[i] = logistic(x, lamb)\n",
    "    "
   ]
  },
  {
   "cell_type": "markdown",
   "metadata": {},
   "source": [
    "And then plot the histogram of the data."
   ]
  },
  {
   "cell_type": "code",
   "execution_count": 55,
   "metadata": {},
   "outputs": [
    {
     "name": "stdout",
     "output_type": "stream",
     "text": [
      "The number of bins is 100.0\n",
      "The bins are:\n",
      "[ 0.    0.01  0.02  0.03  0.04  0.05  0.06  0.07  0.08  0.09  0.1   0.11\n",
      "  0.12  0.13  0.14  0.15  0.16  0.17  0.18  0.19  0.2   0.21  0.22  0.23\n",
      "  0.24  0.25  0.26  0.27  0.28  0.29  0.3   0.31  0.32  0.33  0.34  0.35\n",
      "  0.36  0.37  0.38  0.39  0.4   0.41  0.42  0.43  0.44  0.45  0.46  0.47\n",
      "  0.48  0.49  0.5   0.51  0.52  0.53  0.54  0.55  0.56  0.57  0.58  0.59\n",
      "  0.6   0.61  0.62  0.63  0.64  0.65  0.66  0.67  0.68  0.69  0.7   0.71\n",
      "  0.72  0.73  0.74  0.75  0.76  0.77  0.78  0.79  0.8   0.81  0.82  0.83\n",
      "  0.84  0.85  0.86  0.87  0.88  0.89  0.9   0.91  0.92  0.93  0.94  0.95\n",
      "  0.96  0.97  0.98  0.99  1.  ]\n"
     ]
    },
    {
     "data": {
      "image/png": "[encoded data removed]",
      "text/plain": [
       "<matplotlib.figure.Figure at 0x7f66bfe7d910>"
      ]
     },
     "metadata": {},
     "output_type": "display_data"
    }
   ],
   "source": [
    "[measurements, bins] = histplot(x_prime)"
   ]
  },
  {
   "cell_type": "markdown",
   "metadata": {},
   "source": [
    "Well that doesn't look very uniform. Lets look at the $\\chi^2$ of it."
   ]
  },
  {
   "cell_type": "code",
   "execution_count": 57,
   "metadata": {},
   "outputs": [
    {
     "name": "stdout",
     "output_type": "stream",
     "text": [
      "Your expected measurement is 100.0\n",
      "Your Chi^2 is 8054.92\n"
     ]
    }
   ],
   "source": [
    "expected = 10000/num_bins\n",
    "\n",
    "print \"Your expected measurement is\", expected\n",
    "\n",
    "deviations = measurements - expected\n",
    "\n",
    "chi_2 = 0.0\n",
    "\n",
    "for i in range(len(deviations)):\n",
    "    \n",
    "    chi_2 = chi_2 + deviations[i]**2.0/expected\n",
    "    \n",
    "print \"Your Chi^2 is\", chi_2"
   ]
  },
  {
   "cell_type": "markdown",
   "metadata": {},
   "source": [
    "Okay, the table value for a confidence level of 99.9% is only 148.230. So that means we have to reject that this is a uniform distribution... its way above that."
   ]
  },
  {
   "cell_type": "markdown",
   "metadata": {},
   "source": [
    "##### Problem #3: Construct the linear relation between the fold map of $y'$ and the logistic map $x'$ from above, and find $a(\\lambda)$, given that:"
   ]
  },
  {
   "cell_type": "markdown",
   "metadata": {},
   "source": [
    "\\begin{align} \\\\ x'&=\\lambda x(1-x) \\\\ y'&=a-y^2 \\\\ y&=mx+b \\end{align}"
   ]
  },
  {
   "cell_type": "markdown",
   "metadata": {},
   "source": [
    "Okay, lets write out $y'$ and try to form $x'$ from it with the linear relation between them:"
   ]
  },
  {
   "cell_type": "markdown",
   "metadata": {},
   "source": [
    "\\begin{align} \\\\ y'&=a-y^2 \\\\ mx'+b &= a - (mx +b)^2 \\\\ x' &= \\frac{a}{m} - \\frac{b}{m} - \\frac{1}{m}(m^2x^2 + b^2 + 2mxb) \\\\\n",
    "&= \\frac{a}{m} - \\frac{b}{m} - \\frac{b^2}{m} - mx\\left(x+\\frac{2b}{m} \\right) \\end{align}"
   ]
  },
  {
   "cell_type": "markdown",
   "metadata": {},
   "source": [
    "Comparing this to the logistic map, we see the following relations must be true."
   ]
  },
  {
   "cell_type": "markdown",
   "metadata": {},
   "source": [
    "\\begin{align} a &= b + b^2 \\\\ m &= -2b \\\\ m &= \\lambda \\end{align}"
   ]
  },
  {
   "cell_type": "markdown",
   "metadata": {},
   "source": [
    "And using these relations we find that $a(\\lambda)$ must be:\n",
    "\\begin{align} a(\\lambda) = \\frac{\\lambda}{2}\\left(\\frac{\\lambda}{2} - 1 \\right) \\end{align}"
   ]
  }
 ],
 "metadata": {
  "kernelspec": {
   "display_name": "Python 3",
   "language": "python",
   "name": "python3"
  },
  "language_info": {
   "codemirror_mode": {
    "name": "ipython",
    "version": 3
   },
   "file_extension": ".py",
   "mimetype": "text/x-python",
   "name": "python",
   "nbconvert_exporter": "python",
   "pygments_lexer": "ipython3",
   "version": "3.7.7"
  }
 },
 "nbformat": 4,
 "nbformat_minor": 1
}
