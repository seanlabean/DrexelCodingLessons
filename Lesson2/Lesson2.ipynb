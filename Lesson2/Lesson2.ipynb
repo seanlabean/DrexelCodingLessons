{
 "cells": [
  {
   "cell_type": "markdown",
   "metadata": {},
   "source": [
    "# Welcome to Jupyter Notebooks!"
   ]
  },
  {
   "cell_type": "code",
   "execution_count": 1,
   "metadata": {},
   "outputs": [],
   "source": [
    "# Types of variables\n",
    "a=5 # Integer\n",
    "b=5.0 # Float\n",
    "c=\"5\" # String\n",
    "d=5<2 # Boolean\n",
    "\n",
    "# Types of Boolean Expressions\n",
    "# x == 2\n",
    "# x != 2\n",
    "# x >= 2\n",
    "# x <= 2\n",
    "# x < 2\n",
    "# x > 2\n",
    "\n",
    "# To run this cell, click on it and press Shift+Enter\n",
    "# By running the cell, you've assigned the variables a, b, c, d to their values"
   ]
  },
  {
   "cell_type": "markdown",
   "metadata": {},
   "source": [
    "## Printing Things, data types"
   ]
  },
  {
   "cell_type": "code",
   "execution_count": 2,
   "metadata": {},
   "outputs": [
    {
     "name": "stdout",
     "output_type": "stream",
     "text": [
      "Hello World\n",
      "Hello World\n",
      "3\n",
      "3.0\n",
      "True False\n"
     ]
    }
   ],
   "source": [
    "# Printing Strings\n",
    "print(\"Hello World\")\n",
    "print(\"Hello\", \"World\")\n",
    "\n",
    "# Printing int/float\n",
    "print(3); print(3.0)\n",
    "\n",
    "# Printing Booleans\n",
    "print(True, False)"
   ]
  },
  {
   "cell_type": "code",
   "execution_count": 3,
   "metadata": {},
   "outputs": [
    {
     "name": "stdout",
     "output_type": "stream",
     "text": [
      "5 <class 'int'>\n",
      "5.0 <class 'float'>\n",
      "5 <class 'str'>\n",
      "False <class 'bool'>\n"
     ]
    }
   ],
   "source": [
    "# Print out the variables from the first cell as well as their data type.\n",
    "print(a, type(a))\n",
    "print(b, type(b))\n",
    "print(c, type(c))\n",
    "print(d, type(d))"
   ]
  },
  {
   "cell_type": "markdown",
   "metadata": {},
   "source": [
    "## Arithmetic\n"
   ]
  },
  {
   "cell_type": "code",
   "execution_count": 6,
   "metadata": {},
   "outputs": [
    {
     "data": {
      "text/plain": [
       "-17.5"
      ]
     },
     "execution_count": 6,
     "metadata": {},
     "output_type": "execute_result"
    }
   ],
   "source": [
    "# Addition, subtraction, division, multiplication, exponent\n",
    "(2+3)-((5./2)*3**2)\n",
    "\n",
    "# Older versions of python do not recognize division as producing floats by default (e.g. 1/2 = 1) \n",
    "# So I have a habit of ensuring the division produces a float by making one number a float (e.g. 1./2 = 0.5)\n",
    "# Python 3 no longer requires this."
   ]
  },
  {
   "cell_type": "code",
   "execution_count": 9,
   "metadata": {},
   "outputs": [
    {
     "data": {
      "text/plain": [
       "6144.0"
      ]
     },
     "execution_count": 9,
     "metadata": {},
     "output_type": "execute_result"
    }
   ],
   "source": [
    "3./2 * 8 ** 4\n"
   ]
  },
  {
   "cell_type": "markdown",
   "metadata": {},
   "source": [
    "### Importing mathematical libraries"
   ]
  },
  {
   "cell_type": "code",
   "execution_count": 15,
   "metadata": {},
   "outputs": [
    {
     "name": "stdout",
     "output_type": "stream",
     "text": [
      "3.141592653589793\n"
     ]
    }
   ],
   "source": [
    "#import math\n",
    "#print(math.pi)\n",
    "\n",
    "#import math as m\n",
    "#print(m.pi)\n",
    "\n",
    "from math import pi\n",
    "print(pi)\n"
   ]
  },
  {
   "cell_type": "code",
   "execution_count": 16,
   "metadata": {},
   "outputs": [
    {
     "name": "stdout",
     "output_type": "stream",
     "text": [
      "3.141592653589793\n"
     ]
    }
   ],
   "source": [
    "print(pi)"
   ]
  },
  {
   "cell_type": "markdown",
   "metadata": {},
   "source": [
    "## While Loops"
   ]
  },
  {
   "cell_type": "code",
   "execution_count": 19,
   "metadata": {},
   "outputs": [
    {
     "name": "stdout",
     "output_type": "stream",
     "text": [
      "This loop will keep going until the variable C is > 40\n",
      "-20 -4.0\n",
      "-15 5.0\n",
      "-10 14.0\n",
      "-5 23.0\n",
      "0 32.0\n",
      "5 41.0\n",
      "10 50.0\n",
      "15 59.0\n",
      "20 68.0\n",
      "25 77.0\n",
      "30 86.0\n",
      "35 95.0\n",
      "40 104.0\n"
     ]
    }
   ],
   "source": [
    "# While Loop\n",
    "\n",
    "C = -20 # Set some things up before our loop\n",
    "dC = 5\n",
    "print('This loop will keep going until the variable C is > 40')\n",
    "while C <= 40:\n",
    "    F = (9./5)*C + 32\n",
    "    print(C, F)\n",
    "    C = C+dC # This line is very very important. Without it, the variable C will stay \n",
    "             # at it's assigned value of -20 and the loop will continue forever.\n",
    "        \n",
    "# Can also do this in a \"regular\" python script!"
   ]
  },
  {
   "cell_type": "markdown",
   "metadata": {},
   "source": [
    "# Practicals! Do 1-3"
   ]
  },
  {
   "cell_type": "code",
   "execution_count": 27,
   "metadata": {},
   "outputs": [
    {
     "name": "stdout",
     "output_type": "stream",
     "text": [
      "3.103210678210678\n"
     ]
    }
   ],
   "source": [
    "# 1. Count down from 10-1\n",
    "#x = 10\n",
    "#dx = 1\n",
    "#while x > 0:\n",
    "#    print(x)\n",
    "#    x -= 1\n",
    "\n",
    "# 2. Print even numbers between 1 and N\n",
    "#N = 7\n",
    "#i = 0\n",
    "#while i <= N:\n",
    "#    print(i)\n",
    "#    i += 2\n",
    "\n",
    "# 3. What is the sum of the reciprocals of k from k=1 to k=M\n",
    "k = 1\n",
    "M = 12\n",
    "sum_ = 0\n",
    "while k <= M:\n",
    "    sum_ += 1.0/k\n",
    "    k += 1\n",
    "print(sum_)\n"
   ]
  },
  {
   "cell_type": "markdown",
   "metadata": {},
   "source": [
    "# Lists"
   ]
  },
  {
   "cell_type": "code",
   "execution_count": 34,
   "metadata": {},
   "outputs": [
    {
     "name": "stdout",
     "output_type": "stream",
     "text": [
      "[-20, -15, -10, -5, 0, 5, 10, 15, 20, 25, 30] <class 'list'>\n",
      "-20\n",
      "The 4th element of C is: -5\n",
      "What does C[-1] do?... 30\n",
      "Appended  [-20, -15, -10, -5, 0, 5, 10, 15, 20, 25, 30, 35]\n",
      "Added some more: [-20, -15, -10, -5, 0, 5, 10, 15, 20, 25, 30, 35, 40, 45]\n",
      "Inseted a value into the 1st element slot [-20, -18, -15, -10, -5, 0, 5, 10, 15, 20, 25, 30, 35, 40, 45]\n"
     ]
    }
   ],
   "source": [
    "C = [-20, -15, -10, -5, 0, 5, 10, 15, 20, 25, 30]\n",
    "print(C, type(C)) # Take a look at C and its type\n",
    "\n",
    "print(C[0]) # Print the 0th element of the list C\n",
    "print(\"The 4th element of C is:\", C[3])\n",
    "print(\"What does C[-1] do?...\", C[-1])\n",
    "\n",
    "# Append the value of 35 to the end of the list\n",
    "C.append(35)\n",
    "print(\"Appended \", C)\n",
    "\n",
    "# Add another list to the end of C\n",
    "C = C + [40, 45]\n",
    "print(\"Added some more:\", C)\n",
    "\n",
    "#Insert a value\n",
    "C.insert(1,-18)\n",
    "print(\"Inseted a value into the 1st element slot\", C)"
   ]
  },
  {
   "cell_type": "code",
   "execution_count": 36,
   "metadata": {},
   "outputs": [
    {
     "name": "stdout",
     "output_type": "stream",
     "text": [
      "[1, 2, 3]\n",
      "[1, 2, 3, 'test string']\n"
     ]
    }
   ],
   "source": [
    "A = [1,2,3]\n",
    "print(A)\n",
    "A.append(\"test string\")\n",
    "print(A)"
   ]
  },
  {
   "cell_type": "code",
   "execution_count": 40,
   "metadata": {},
   "outputs": [
    {
     "name": "stdout",
     "output_type": "stream",
     "text": [
      "Length of C 15\n",
      "Is 10 in C? True\n",
      "Location of 10 is: 7\n",
      "[-20, -18, -15, -10, -5, 0, 5, 10, 15, 20, 25, 30, 35, 40, 45]\n"
     ]
    }
   ],
   "source": [
    "# List Properties\n",
    "\n",
    "#List length\n",
    "len_C = len(C)\n",
    "print(\"Length of C\", len_C)\n",
    "\n",
    "#logic\n",
    "num = 10\n",
    "check_for_num = num in C\n",
    "print(\"Is %d in C?\"%num, check_for_num) # I did something a little tricky here in how I printed out the information.\n",
    "\n",
    "#Indexing\n",
    "loc_of_num = C.index(num)\n",
    "print(\"Location of %d is:\"%num, loc_of_num)\n",
    "print(C)"
   ]
  },
  {
   "cell_type": "markdown",
   "metadata": {},
   "source": [
    "## For Loops"
   ]
  },
  {
   "cell_type": "code",
   "execution_count": 41,
   "metadata": {},
   "outputs": [
    {
     "name": "stdout",
     "output_type": "stream",
     "text": [
      "[-4.0, -0.3999999999999986, 5.0, 14.0, 23.0, 32.0, 41.0, 50.0, 59.0, 68.0, 77.0, 86.0, 95.0, 104.0, 113.0]\n"
     ]
    }
   ],
   "source": [
    "# for loop\n",
    "F_degrees = []\n",
    "for temp in C: \n",
    "    # temp is assigned to the 0th element of the list C, then iterates\n",
    "    F = (9.0/5)*temp + 32\n",
    "    F_degrees.append(F)\n",
    "    \n",
    "print(F_degrees)"
   ]
  },
  {
   "cell_type": "code",
   "execution_count": 42,
   "metadata": {},
   "outputs": [
    {
     "name": "stdout",
     "output_type": "stream",
     "text": [
      "[-4.0, -0.3999999999999986, 5.0, 14.0, 23.0, 32.0, 41.0, 50.0, 59.0, 68.0, 77.0, 86.0, 95.0, 104.0, 113.0]\n",
      "Hmm... that didn't work\n",
      "f is only a COPY of the element in the list\n"
     ]
    }
   ],
   "source": [
    "# How do we increase all the elements in F_degrees by 5.0?\n",
    "for f in F_degrees:\n",
    "    f += 5\n",
    "print(F_degrees)\n",
    "print(\"Hmm... that didn't work\")\n",
    "print(\"f is only a COPY of the element in the list\")"
   ]
  },
  {
   "cell_type": "code",
   "execution_count": 43,
   "metadata": {},
   "outputs": [
    {
     "name": "stdout",
     "output_type": "stream",
     "text": [
      "[1.0, 4.600000000000001, 10.0, 19.0, 28.0, 37.0, 46.0, 55.0, 64.0, 73.0, 82.0, 91.0, 100.0, 109.0, 118.0]\n",
      "[6.0, 9.600000000000001, 15.0, 24.0, 33.0, 42.0, 51.0, 60.0, 69.0, 78.0, 87.0, 96.0, 105.0, 114.0, 123.0]\n"
     ]
    }
   ],
   "source": [
    "# Try again\n",
    "for i, f in enumerate(F_degrees):\n",
    "    # enumerate returns the index AND the value \n",
    "    F_degrees[i] += 5\n",
    "print(F_degrees)\n",
    "\n",
    "# Do it again, but simpler!\n",
    "F_plus_five = [F+5 for F in F_degrees]\n",
    "print(F_plus_five)"
   ]
  },
  {
   "cell_type": "markdown",
   "metadata": {},
   "source": [
    "# Practicals! Do 4-6"
   ]
  },
  {
   "cell_type": "code",
   "execution_count": null,
   "metadata": {},
   "outputs": [],
   "source": [
    "# 4. Store odd numbers from 1-N in a list.\n",
    "N =\n",
    "\n",
    "# 5. Calculate cos(x) for x in range(0,2pi) in 0.1 step increments.\n",
    "\n",
    "\n",
    "# 6. Compute the mean of numbers in a list."
   ]
  },
  {
   "cell_type": "markdown",
   "metadata": {},
   "source": [
    "# Nested Lists and Nested Loops"
   ]
  },
  {
   "cell_type": "code",
   "execution_count": 49,
   "metadata": {},
   "outputs": [
    {
     "name": "stdout",
     "output_type": "stream",
     "text": [
      "Now the 0th element is: nested_list[0] = [1, 2, 3]\n",
      "The 0th element of the 0th element: nested_list[0][0] = 3\n"
     ]
    }
   ],
   "source": [
    "# We can make a list of lists!\n",
    "nested_list = [[1,2,3], [4,5,6], [7,8,9,10]]\n",
    "print(\"Now the 0th element is: nested_list[0] =\", nested_list[0])\n",
    "\n",
    "print(\"The 0th element of the 0th element: nested_list[0][0] =\", nested_list[0][2])"
   ]
  },
  {
   "cell_type": "code",
   "execution_count": 50,
   "metadata": {},
   "outputs": [
    {
     "name": "stdout",
     "output_type": "stream",
     "text": [
      "1\n",
      "2\n",
      "3\n",
      "4\n",
      "5\n",
      "6\n",
      "7\n",
      "8\n",
      "9\n",
      "10\n"
     ]
    }
   ],
   "source": [
    "# How do we iterate through these elements?\n",
    "for p in range(len(nested_list)):\n",
    "    for g in range(len(nested_list[p])):\n",
    "        elem = nested_list[p][g]\n",
    "        # Now we can do something with these elements, let's just print them\n",
    "        print(elem)\n",
    "        \n",
    "#Experiment a bit, place the print(elem) in different tab indentations. Why does it change the output?"
   ]
  },
  {
   "cell_type": "markdown",
   "metadata": {},
   "source": [
    "## If Statements"
   ]
  },
  {
   "cell_type": "code",
   "execution_count": 54,
   "metadata": {},
   "outputs": [
    {
     "name": "stdout",
     "output_type": "stream",
     "text": [
      "2\n",
      "4\n",
      "6\n",
      "Hello\n",
      "8\n"
     ]
    }
   ],
   "source": [
    "M = [1,2,3,4,5,6,7,8]\n",
    "for val in M:\n",
    "    if val%2 == 0:\n",
    "        print(val)\n",
    "    elif val > 6:\n",
    "        print(\"Hello\")"
   ]
  },
  {
   "cell_type": "code",
   "execution_count": 55,
   "metadata": {},
   "outputs": [
    {
     "name": "stdout",
     "output_type": "stream",
     "text": [
      "2\n",
      "4\n",
      "6\n",
      "8\n",
      "10\n"
     ]
    }
   ],
   "source": [
    "# Let's take the same nested for loop from above\n",
    "# and add an if statement to only print out certain elements of the main list.\n",
    "\n",
    "for p in range(len(nested_list)):\n",
    "    for g in range(len(nested_list[p])):\n",
    "        elem = nested_list[p][g]\n",
    "        # Now we can do something with these elements, let's just print them\n",
    "        if elem%2 == 0:\n",
    "            print(elem)"
   ]
  },
  {
   "cell_type": "markdown",
   "metadata": {},
   "source": [
    "# Functions!"
   ]
  },
  {
   "cell_type": "code",
   "execution_count": 58,
   "metadata": {},
   "outputs": [],
   "source": [
    "def yfunc(t, v0): #We tell the function to expect two inputs, t and v0\n",
    "    \"\"\" Example Function Description\"\"\"\n",
    "    g = 9.81 # This is a 'local' variable. It only exists inside of this funciton \n",
    "             # and is erased after the function is called.\n",
    "    y = v0*t - 0.5*g*t**2 # Doing some calculations.\n",
    "    dydt = v0 - g*t\n",
    "    \n",
    "    return y, dydt # return two values"
   ]
  },
  {
   "cell_type": "code",
   "execution_count": 59,
   "metadata": {},
   "outputs": [],
   "source": [
    "# If we forgot what our function does, ask for help:\n",
    "yfunc?"
   ]
  },
  {
   "cell_type": "code",
   "execution_count": 63,
   "metadata": {},
   "outputs": [
    {
     "name": "stdout",
     "output_type": "stream",
     "text": [
      "position = 409.5\n",
      "velocity = -8.100000000000009\n"
     ]
    }
   ],
   "source": [
    "position, velocity = yfunc(10, 90) # We need this double variable because our function returns two values\n",
    "print(\"position =\", position)\n",
    "print(\"velocity =\", velocity)"
   ]
  },
  {
   "cell_type": "markdown",
   "metadata": {},
   "source": [
    "# Practicals! Do 7-8\n",
    "Click on this cell to see some cool jupyter notebook formatting things.\n",
    "\n",
    "7. Write a function for the following:\n",
    "$$f(x) = \\begin{cases} x & 0 < x < 1 \\\\ 2-x & 1 < x <2 \\\\ 0 & otherwise \\end{cases}$$\n",
    "\n",
    "8. Write a function that computes the factorial of its input."
   ]
  },
  {
   "cell_type": "code",
   "execution_count": null,
   "metadata": {},
   "outputs": [],
   "source": []
  }
 ],
 "metadata": {
  "kernelspec": {
   "display_name": "Python 3",
   "language": "python",
   "name": "python3"
  },
  "language_info": {
   "codemirror_mode": {
    "name": "ipython",
    "version": 3
   },
   "file_extension": ".py",
   "mimetype": "text/x-python",
   "name": "python",
   "nbconvert_exporter": "python",
   "pygments_lexer": "ipython3",
   "version": "3.7.7"
  }
 },
 "nbformat": 4,
 "nbformat_minor": 4
}
