{
 "cells": [
  {
   "cell_type": "markdown",
   "metadata": {},
   "source": [
    "# Welcome to Jupyter Notebooks!"
   ]
  },
  {
   "cell_type": "code",
   "execution_count": null,
   "metadata": {},
   "outputs": [],
   "source": [
    "# Types of variables\n",
    "a=5 # Integer\n",
    "b=5.0 # Float\n",
    "c=\"5\" # String\n",
    "d=5<2 # Boolean\n",
    "\n",
    "# Types of Boolean Expressions\n",
    "# x == 2\n",
    "# x != 2\n",
    "# x >= 2\n",
    "# x <= 2\n",
    "# x < 2\n",
    "# x > 2\n",
    "\n",
    "# To run this cell, click on it and press Shift+Enter\n",
    "# By running the cell, you've assigned the variables a, b, c, d to their values"
   ]
  },
  {
   "cell_type": "markdown",
   "metadata": {},
   "source": [
    "## Printing Things, data types"
   ]
  },
  {
   "cell_type": "code",
   "execution_count": null,
   "metadata": {},
   "outputs": [],
   "source": [
    "# Printing Strings\n",
    "print(\"Hello World\")\n",
    "print(\"Hello\", \"World\")\n",
    "\n",
    "# Printing int/float\n",
    "print(3); print(3.0)\n",
    "\n",
    "# Printing Booleans\n",
    "print(True, False)"
   ]
  },
  {
   "cell_type": "code",
   "execution_count": null,
   "metadata": {},
   "outputs": [],
   "source": [
    "# Print out the variables from the first cell as well as their data type.\n",
    "print(a, type(a))\n",
    "print(b, type(b))\n",
    "print(c, type(c))\n",
    "print(d, type(d))"
   ]
  },
  {
   "cell_type": "markdown",
   "metadata": {},
   "source": [
    "## Arithmetic\n"
   ]
  },
  {
   "cell_type": "code",
   "execution_count": null,
   "metadata": {},
   "outputs": [],
   "source": [
    "# Addition, subtraction, division, multiplication, exponent\n",
    "(2+3)-((5./2)*3**2)\n",
    "\n",
    "# Older versions of python do not recognize division as producing floats by default (e.g. 1/2 = 1) \n",
    "# So I have a habit of ensuring the division produces a float by making one number a float (e.g. 1./2 = 0.5)\n",
    "# Python 3 no longer requires this."
   ]
  },
  {
   "cell_type": "code",
   "execution_count": null,
   "metadata": {},
   "outputs": [],
   "source": [
    "3./2 * 8 ** 4\n"
   ]
  },
  {
   "cell_type": "markdown",
   "metadata": {},
   "source": [
    "### Importing mathematical libraries"
   ]
  },
  {
   "cell_type": "code",
   "execution_count": null,
   "metadata": {},
   "outputs": [],
   "source": [
    "import math\n",
    "print(\"using math lilbrary:\", math.pi)\n",
    "\n",
    "import math as m\n",
    "print(\"using math library alias:\", m.pi)\n",
    "\n",
    "from math import pi\n",
    "print(\"using element from math library:\", pi)\n"
   ]
  },
  {
   "cell_type": "code",
   "execution_count": null,
   "metadata": {},
   "outputs": [],
   "source": [
    "print(pi)"
   ]
  },
  {
   "cell_type": "markdown",
   "metadata": {},
   "source": [
    "## While Loops"
   ]
  },
  {
   "cell_type": "code",
   "execution_count": null,
   "metadata": {},
   "outputs": [],
   "source": [
    "# While Loop\n",
    "\n",
    "C = -20 # Set some things up before our loop\n",
    "dC = 5\n",
    "print('This loop will keep going until the variable C is > 40')\n",
    "while C <= 40:\n",
    "    F = (9./5)*C + 32\n",
    "    print(C, F)\n",
    "    C = C+dC # This line is very very important. Without it, the variable C will stay \n",
    "             # at it's assigned value of -20 and the loop will continue forever.\n",
    "        \n",
    "# Can also do this in a \"regular\" python script!"
   ]
  },
  {
   "cell_type": "markdown",
   "metadata": {},
   "source": [
    "# Practicals! Do 1-3"
   ]
  },
  {
   "cell_type": "code",
   "execution_count": null,
   "metadata": {},
   "outputs": [],
   "source": [
    "# 1. Count down from 10-1\n",
    "\n",
    "\n",
    "\n"
   ]
  },
  {
   "cell_type": "code",
   "execution_count": null,
   "metadata": {},
   "outputs": [],
   "source": [
    "# 2. Print even numbers between 1 and N\n",
    "\n",
    "\n",
    "\n",
    "\n"
   ]
  },
  {
   "cell_type": "code",
   "execution_count": null,
   "metadata": {},
   "outputs": [],
   "source": [
    "# 3. What is the sum of the reciprocals of k from k=1 to k=M\n",
    "\n",
    "\n",
    "\n"
   ]
  },
  {
   "cell_type": "markdown",
   "metadata": {},
   "source": [
    "# Lists"
   ]
  },
  {
   "cell_type": "code",
   "execution_count": null,
   "metadata": {},
   "outputs": [],
   "source": [
    "C = [-20, -15, -10, -5, 0, 5, 10, 15, 20, 25, 30]\n",
    "print(C, type(C)) # Take a look at C and its type\n",
    "\n",
    "print(C[0]) # Print the 0th element of the list C\n",
    "print(\"The 4th element of C is:\", C[3])\n",
    "print(\"What does C[-1] do?...\", C[-1])\n",
    "\n",
    "# Append the value of 35 to the end of the list\n",
    "C.append(35)\n",
    "print(\"Appended \", C)\n",
    "\n",
    "# Add another list to the end of C\n",
    "C = C + [40, 45]\n",
    "print(\"Added some more:\", C)\n",
    "\n",
    "#Insert a value\n",
    "C.insert(1,-18)\n",
    "print(\"Inseted a value into the 1st element slot\", C)"
   ]
  },
  {
   "cell_type": "code",
   "execution_count": null,
   "metadata": {},
   "outputs": [],
   "source": [
    "A = [1,2,3]\n",
    "print(A)\n",
    "A.append(\"test string\")\n",
    "print(A)"
   ]
  },
  {
   "cell_type": "code",
   "execution_count": null,
   "metadata": {},
   "outputs": [],
   "source": [
    "# List Properties\n",
    "\n",
    "#List length\n",
    "len_C = len(C)\n",
    "print(\"Length of C\", len_C)\n",
    "\n",
    "#logic\n",
    "num = 10\n",
    "check_for_num = num in C\n",
    "print(\"Is %d in C?\"%num, check_for_num) # I did something a little tricky here in how I printed out the information.\n",
    "\n",
    "#Indexing\n",
    "loc_of_num = C.index(num)\n",
    "print(\"Location of %d is:\"%num, loc_of_num)\n",
    "print(C)"
   ]
  },
  {
   "cell_type": "markdown",
   "metadata": {},
   "source": [
    "## For Loops"
   ]
  },
  {
   "cell_type": "code",
   "execution_count": null,
   "metadata": {},
   "outputs": [],
   "source": [
    "# for loop\n",
    "F_degrees = []\n",
    "for temp in C: \n",
    "    # temp is assigned to the 0th element of the list C, then iterates\n",
    "    F = (9.0/5)*temp + 32\n",
    "    F_degrees.append(F)\n",
    "    \n",
    "print(F_degrees)"
   ]
  },
  {
   "cell_type": "code",
   "execution_count": null,
   "metadata": {},
   "outputs": [],
   "source": [
    "# How do we increase all the elements in F_degrees by 5.0?\n",
    "for f in F_degrees:\n",
    "    f += 5\n",
    "print(F_degrees)\n",
    "print(\"Hmm... that didn't work\")\n",
    "print(\"f is only a COPY of the element in the list\")"
   ]
  },
  {
   "cell_type": "code",
   "execution_count": null,
   "metadata": {},
   "outputs": [],
   "source": [
    "# Try again\n",
    "for i, f in enumerate(F_degrees):\n",
    "    # enumerate returns the index AND the value \n",
    "    F_degrees[i] += 5\n",
    "print(F_degrees)\n",
    "\n",
    "# Do it again, but simpler!\n",
    "F_plus_five = [F+5 for F in F_degrees]\n",
    "print(F_plus_five)"
   ]
  },
  {
   "cell_type": "markdown",
   "metadata": {},
   "source": [
    "# Practicals! Do 4-6"
   ]
  },
  {
   "cell_type": "code",
   "execution_count": null,
   "metadata": {},
   "outputs": [],
   "source": [
    "# 4. Store odd numbers from 1-N in a list.\n",
    "N =\n",
    "\n",
    "# 5. Calculate cos(x) for x in range(0,2pi) in 0.1 step increments.\n",
    "\n",
    "\n",
    "# 6. Compute the mean of numbers in a list."
   ]
  },
  {
   "cell_type": "markdown",
   "metadata": {},
   "source": [
    "# Nested Lists and Nested Loops"
   ]
  },
  {
   "cell_type": "code",
   "execution_count": null,
   "metadata": {},
   "outputs": [],
   "source": [
    "# We can make a list of lists!\n",
    "nested_list = [[1,2,3], [4,5,6], [7,8,9,10]]\n",
    "print(\"Now the 0th element is: nested_list[0] =\", nested_list[0])\n",
    "\n",
    "print(\"The 0th element of the 0th element: nested_list[0][0] =\", nested_list[0][2])"
   ]
  },
  {
   "cell_type": "code",
   "execution_count": null,
   "metadata": {},
   "outputs": [],
   "source": [
    "# How do we iterate through these elements?\n",
    "for p in range(len(nested_list)):\n",
    "    for g in range(len(nested_list[p])):\n",
    "        elem = nested_list[p][g]\n",
    "        # Now we can do something with these elements, let's just print them\n",
    "        print(elem)\n",
    "        \n",
    "#Experiment a bit, place the print(elem) in different tab indentations. Why does it change the output?"
   ]
  },
  {
   "cell_type": "markdown",
   "metadata": {},
   "source": [
    "## If Statements"
   ]
  },
  {
   "cell_type": "code",
   "execution_count": null,
   "metadata": {},
   "outputs": [],
   "source": [
    "M = [1,2,3,4,5,6,7,8]\n",
    "for val in M:\n",
    "    if val%2 == 0:\n",
    "        print(val)\n",
    "    elif val > 6:\n",
    "        print(\"Hello\")"
   ]
  },
  {
   "cell_type": "code",
   "execution_count": null,
   "metadata": {},
   "outputs": [],
   "source": [
    "# Let's take the same nested for loop from above\n",
    "# and add an if statement to only print out certain elements of the main list.\n",
    "\n",
    "for p in range(len(nested_list)):\n",
    "    for g in range(len(nested_list[p])):\n",
    "        elem = nested_list[p][g]\n",
    "        # Now we can do something with these elements, let's just print them\n",
    "        if elem%2 == 0:\n",
    "            print(elem)"
   ]
  },
  {
   "cell_type": "markdown",
   "metadata": {},
   "source": [
    "# Functions!"
   ]
  },
  {
   "cell_type": "code",
   "execution_count": null,
   "metadata": {},
   "outputs": [],
   "source": [
    "def yfunc(t, v0): #We tell the function to expect two inputs, t and v0\n",
    "    \"\"\" Example Function Description\"\"\"\n",
    "    g = 9.81 # This is a 'local' variable. It only exists inside of this funciton \n",
    "             # and is erased after the function is called.\n",
    "    y = v0*t - 0.5*g*t**2 # Doing some calculations.\n",
    "    dydt = v0 - g*t\n",
    "    \n",
    "    return y, dydt # return two values"
   ]
  },
  {
   "cell_type": "code",
   "execution_count": null,
   "metadata": {},
   "outputs": [],
   "source": [
    "# If we forgot what our function does, ask for help:\n",
    "yfunc?"
   ]
  },
  {
   "cell_type": "code",
   "execution_count": null,
   "metadata": {},
   "outputs": [],
   "source": [
    "position, velocity = yfunc(10, 90) # We need this double variable because our function returns two values\n",
    "print(\"position =\", position)\n",
    "print(\"velocity =\", velocity)"
   ]
  },
  {
   "cell_type": "markdown",
   "metadata": {},
   "source": [
    "# Practicals! Do 7-8\n",
    "Click on this cell to see some cool jupyter notebook formatting things.\n",
    "\n",
    "7. Write a function for the following:\n",
    "$$f(x) = \\begin{cases} x & 0 < x < 1 \\\\ 2-x & 1 < x <2 \\\\ 0 & otherwise \\end{cases}$$\n",
    "\n",
    "8. Write a function that computes the factorial of its input."
   ]
  },
  {
   "cell_type": "code",
   "execution_count": null,
   "metadata": {},
   "outputs": [],
   "source": []
  }
 ],
 "metadata": {
  "kernelspec": {
   "display_name": "Python 3",
   "language": "python",
   "name": "python3"
  },
  "language_info": {
   "codemirror_mode": {
    "name": "ipython",
    "version": 3
   },
   "file_extension": ".py",
   "mimetype": "text/x-python",
   "name": "python",
   "nbconvert_exporter": "python",
   "pygments_lexer": "ipython3",
   "version": "3.7.7"
  }
 },
 "nbformat": 4,
 "nbformat_minor": 4
}
