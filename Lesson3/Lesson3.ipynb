{
 "cells": [
  {
   "cell_type": "markdown",
   "metadata": {},
   "source": [
    "# File Manipulation!\n",
    "\n",
    "Here, we will go over some ways to load in, manipulate, and save txt/data files.\n",
    "\n",
    "As with all jupyter notebooks, everything we do here can also be done in an individual python script."
   ]
  },
  {
   "cell_type": "markdown",
   "metadata": {},
   "source": [
    "# Read-in and parse a simple file"
   ]
  },
  {
   "cell_type": "code",
   "execution_count": null,
   "metadata": {},
   "outputs": [],
   "source": [
    "infile = open('blank.txt', 'r') # Creates a text wrapper object that we save to the variable infile\n",
    "lines = infile.readlines() # the text wrapper object has the functional attribute .readlines() \n",
    "                           # which takes each line and assigns it to a list element\n",
    "print(type(lines)) # This shows us that the variable lines is in fact a list!\n",
    "print(lines)"
   ]
  },
  {
   "cell_type": "code",
   "execution_count": null,
   "metadata": {},
   "outputs": [],
   "source": [
    "# Becasue the variable lines is a list, we can parse it like we did in Lesson 2\n",
    "\n",
    "mean = 0 \n",
    "for number in lines:\n",
    "    mean = mean + number\n",
    "mean = mean/len(lines)"
   ]
  },
  {
   "cell_type": "code",
   "execution_count": null,
   "metadata": {},
   "outputs": [],
   "source": [
    "# Hmm... that didn't work. \n",
    "# Seens like the elements inside of the variable lines are strings so we cant add them to an integer.\n",
    "\n",
    "mean = 0 \n",
    "for line in lines:\n",
    "    number = float(line)\n",
    "    mean = mean + number\n",
    "mean = mean/len(lines)\n",
    "\n",
    "print(mean)"
   ]
  },
  {
   "cell_type": "markdown",
   "metadata": {},
   "source": [
    "## Parse a more complicated file\n",
    "\n",
    "If lines in a file are more complex say, for instance, several words separated by commas, our previous method of reading in the lines wont allow us to access each individual word. We will instead get a list of individual strings that include the several words and commas.\n",
    "\n",
    "Instead, we can split a string by defining a delimiter."
   ]
  },
  {
   "cell_type": "code",
   "execution_count": null,
   "metadata": {},
   "outputs": [],
   "source": [
    "infile = open('numbers.csv', 'r')\n",
    "\n",
    "numbers = infile.readlines()\n",
    "print(\"first line of the file numbers[0]: \",numbers[0])\n",
    "print(\"has the type:\", type(numbers[0]))\n",
    "print(\"but if I try to print the first number numbers[0][0]:\", numbers[0][2])"
   ]
  },
  {
   "cell_type": "code",
   "execution_count": null,
   "metadata": {},
   "outputs": [],
   "source": [
    "# We can take the comma-separated string of numbers in the first element spot \n",
    "# in numbers and split the string along the commas.\n",
    "num_delim = numbers[0].split(',')\n",
    "print(\".split(') generates a new list of strings but without the commas\")\n",
    "print(num_delim)\n",
    "print(num_delim[0])"
   ]
  },
  {
   "cell_type": "markdown",
   "metadata": {},
   "source": [
    "If data is stored in multiple columns you can read it in using a numpy function."
   ]
  },
  {
   "cell_type": "code",
   "execution_count": null,
   "metadata": {},
   "outputs": [],
   "source": [
    "import numpy as np\n",
    "block_data = np.genfromtxt(\"./block_data.txt\",dtype='str')"
   ]
  },
  {
   "cell_type": "code",
   "execution_count": null,
   "metadata": {},
   "outputs": [],
   "source": [
    "print(block_data)"
   ]
  },
  {
   "cell_type": "markdown",
   "metadata": {},
   "source": [
    "# Practicals! Do 1-2\n",
    "\n",
    "1. Read words from 'words.txt' into a list and sort the list. \n",
    "\n",
    "2. Read the comma separated file 'numbers.csv' and store the 1st and 4th column in a list"
   ]
  },
  {
   "cell_type": "code",
   "execution_count": null,
   "metadata": {},
   "outputs": [],
   "source": [
    "# Practical 1.\n",
    "input_file = open('words.txt')\n",
    "lines = []\n",
    "for ___ in ___:\n",
    "    # Add element to list, get rid of any pieces we dont want (1 line)\n",
    "\n",
    "    # Sort the list (1 line)\n",
    "\n",
    "print(lines)\n",
    "\n",
    "input_file.close()\n",
    "\n"
   ]
  },
  {
   "cell_type": "code",
   "execution_count": null,
   "metadata": {},
   "outputs": [],
   "source": [
    "# Practical 2.\n",
    "\n",
    "import string\n",
    "\n",
    "#Read in file\n",
    "\n",
    "infile = open('numbers.csv')\n",
    "\n",
    "#create empty list for each column\n",
    "\n",
    "col1 = []\n",
    "col4 = []\n",
    "\n",
    "for line in infile:\n",
    "    # strip whitespace (1 line)\n",
    "    line = \n",
    "    # split line at comma (1 line)\n",
    "    data = \n",
    "    # append 0th element to col1 (1 line)\n",
    "\n",
    "    # append 3rd element to col4 (1 line)\n",
    "\n",
    "    print(data[0], data[3])"
   ]
  },
  {
   "cell_type": "markdown",
   "metadata": {},
   "source": [
    "## Writing to a file\n",
    "\n",
    "Same thing, use the open() function but we need to set it to write mode instead of read-only\n",
    "\n",
    "\n",
    "    r: Opens the file in read-only mode. Starts reading from the beginning of the file and is the default mode for the open() function.\n",
    "\n",
    "    rb: Opens the file as read-only in binary format and starts reading from the beginning of the file. While binary format can be used for different purposes, it is usually used when dealing with things like images, videos, etc.\n",
    "\n",
    "    r+: Opens a file for reading and writing, placing the pointer at the beginning of the file.\n",
    "\n",
    "    w: Opens in write-only mode. The pointer is placed at the beginning of the file and this will overwrite any existing file with the same name. It will create a new file if one with the same name doesn't exist.\n",
    "   \n",
    "    wb: Opens a write-only file in binary mode.\n",
    "\n",
    "    w+: Opens a file for writing and reading.\n",
    "\n",
    "    wb+: Opens a file for writing and reading in binary mode.\n",
    "\n",
    "    a: Opens a file for appending new information to it. The pointer is placed at the end of the file. A new file is created if one with the same name doesn't exist.\n",
    "\n",
    "    ab: Opens a file for appending in binary mode.\n",
    "\n",
    "    a+: Opens a file for both appending and reading.\n",
    "\n",
    "    ab+: Opens a file for both appending and reading in binary mode."
   ]
  },
  {
   "cell_type": "code",
   "execution_count": null,
   "metadata": {},
   "outputs": [],
   "source": [
    "new_test_file = open('./new_test_file.txt', 'w')\n",
    "\n",
    "new_test_file.write(\"Testing Testing 1 2 3\")\n",
    "# At this point the file will have been created, but nothing officially written to it until we close it!\n",
    "\n",
    "new_test_file.close()\n",
    "#There we go, all written!\n"
   ]
  },
  {
   "cell_type": "markdown",
   "metadata": {},
   "source": [
    "# Dictionaries\n",
    "\n",
    "Similar to lists but a bit more powerful in their organization. Built using a 'key : value' pair\n",
    "\n",
    "    D = {}              #empty dictionary\n",
    "    \n",
    "    D = {'my_key' : 5}  #one entry\n",
    "    \n",
    "    D['my_key']         #access value"
   ]
  },
  {
   "cell_type": "code",
   "execution_count": null,
   "metadata": {},
   "outputs": [],
   "source": [
    "# I'll build us an example dictionary to play with\n",
    "temps = {'Oslo':13, 'London':15.4, 'Paris':17.5}\n",
    "print(temps)\n",
    "print(temps['London'])\n",
    "\n",
    "# Add a new key and value\n",
    "temps['Madrid'] = 26.0\n",
    "print(temps)"
   ]
  },
  {
   "cell_type": "markdown",
   "metadata": {},
   "source": [
    "## Looping over Dictionaries"
   ]
  },
  {
   "cell_type": "code",
   "execution_count": null,
   "metadata": {},
   "outputs": [],
   "source": [
    "# We can print out the dictionary information in a nice way\n",
    "\n",
    "for city in temps:\n",
    "    print('The temperature in %s is %g'%(city, temps[city]))"
   ]
  },
  {
   "cell_type": "code",
   "execution_count": null,
   "metadata": {},
   "outputs": [],
   "source": [
    "# And we can check if a certain key exists and give nice output if it does/doesn't\n",
    "if 'Berlin' in temps:\n",
    "    print('Berlin', temps['Berlin'])\n",
    "else:\n",
    "    print('No temperature data for Berlin')"
   ]
  },
  {
   "cell_type": "markdown",
   "metadata": {},
   "source": [
    "# Practicals!\n",
    "\n",
    "3. Read in the file block_data.txt using either loadtxt or genfromtxt. Print the month and year that made the most money.\n",
    "\n",
    "4. Print cos(x) to a file in pairs\n",
    "\n",
    "5. Read words from words.txt and count how many times they occur"
   ]
  },
  {
   "cell_type": "code",
   "execution_count": null,
   "metadata": {},
   "outputs": [],
   "source": [
    "# Practical 3 - Read in the file block_data.txt using either loadtxt or genfromtxt. \n",
    "# Print the month and year that made the most money.\n",
    "\n",
    "import numpy as np\n",
    "\n",
    "#import file into list\n",
    "file_name = 'block_data.txt'\n",
    "# Search for and read some docs!\n",
    "month = np.genfromtxt(_____, _____, dtype='str')\n",
    "years, money = np.loadtxt(____, ____, ____, dtype='int', unpack=True)\n",
    "\n",
    "max_val = max(money)\n",
    "index = list(money).index(max_val)\n",
    "\n",
    "print(\"The most money was earned in %s, %d which was $%dk\" % (month[index], years[index], money[index]))"
   ]
  },
  {
   "cell_type": "code",
   "execution_count": null,
   "metadata": {},
   "outputs": [],
   "source": [
    "# Practical 4 - Print cos(x) to a file in pairs\n",
    "import math as m\n",
    "\n",
    "#Print cos(x) to a file in pairs\n",
    "\n",
    "#setup for  x values\n",
    "dx = 0.1\n",
    "start = 0\n",
    "stop = 2*m.pi\n",
    "N = (stop - start) / dx\n",
    "\n",
    "#create writeable file\n",
    "input_file = open('cos_vals.txt', 'w')\n",
    "\n",
    "\n",
    "#get values and store them\n",
    "print('printing values') \n",
    "print('X values, Cos(X) values', file=input_file) # sends this string to input_file\n",
    "\n",
    "# Calculate and send to file. Maybe use a loop? (~4 lines)\n",
    "\n",
    "#CLOSE THE FILE\n",
    "input_file.close()\n",
    "print('All Done')\n"
   ]
  },
  {
   "cell_type": "code",
   "execution_count": null,
   "metadata": {},
   "outputs": [],
   "source": [
    "# Practical 5 - Read words from words.txt and count how many times they occur\n",
    "\n",
    "import numpy as np\n",
    "\n",
    "#Read in words.txt\n",
    "\n",
    "file = open('words.txt', 'r')\n",
    "\n",
    "#Create empty Dictionary (1 line)\n",
    "Dict = ___\n",
    "\n",
    "# loop through file items\n",
    "for i in file:\n",
    "    # strip fluff\n",
    "    i = i.strip('\\n')\n",
    "    # Increment value for a key (i) if it already is in Dict. Initialize new key with value 1 if not. (4 lines)\n",
    "\n",
    "\n",
    "print(Dict)"
   ]
  },
  {
   "cell_type": "markdown",
   "metadata": {},
   "source": [
    "# Storing Data Objects\n",
    "\n",
    "pickle https://docs.python.org/3/library/pickle.html\n",
    "\n",
    "A brief warning: pickle is not secure, meaning you are able to unpickle any file you tell your computer to, not matter what the repercussions might be. It's completely safe to use for your own work and research, but do go downloading and opening strange pickles from the web.\n",
    "\n",
    "json https://docs.python.org/3/library/json.html"
   ]
  },
  {
   "cell_type": "code",
   "execution_count": null,
   "metadata": {},
   "outputs": [],
   "source": [
    "import pickle"
   ]
  },
  {
   "cell_type": "code",
   "execution_count": null,
   "metadata": {},
   "outputs": [],
   "source": [
    "# Im going to store our temps dictionary in a pickle object \n",
    "with open('./temps.pickle', 'wb') as temp_file:\n",
    "    pickle.dump(temps, temp_file, protocol=pickle.HIGHEST_PROTOCOL)\n",
    "    \n",
    "with open('./temps.pickle', 'rb') as temp_file:\n",
    "    temp2 = pickle.load(temp_file)\n",
    "print(pickle.HIGHEST_PROTOCOL)\n",
    "print(temps == temp2)"
   ]
  },
  {
   "cell_type": "markdown",
   "metadata": {},
   "source": [
    "By the way, the protocol option is NOT necessary. However, the python2 pickle will dump files with protocol=0 and Python3 uses protocol=2 by defualt and protocol=4 at HIGHEST_PROTOCOL. \n",
    "\n",
    "The higher the protocol, the smaller the resulting binary file. This is generally not important unless you are doing some major pickling. "
   ]
  },
  {
   "cell_type": "code",
   "execution_count": null,
   "metadata": {},
   "outputs": [],
   "source": []
  }
 ],
 "metadata": {
  "kernelspec": {
   "display_name": "Python 3",
   "language": "python",
   "name": "python3"
  },
  "language_info": {
   "codemirror_mode": {
    "name": "ipython",
    "version": 3
   },
   "file_extension": ".py",
   "mimetype": "text/x-python",
   "name": "python",
   "nbconvert_exporter": "python",
   "pygments_lexer": "ipython3",
   "version": "3.7.7"
  }
 },
 "nbformat": 4,
 "nbformat_minor": 4
}
