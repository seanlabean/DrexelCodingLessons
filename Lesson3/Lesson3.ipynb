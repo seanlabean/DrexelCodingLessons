{
 "cells": [
  {
   "cell_type": "markdown",
   "metadata": {},
   "source": [
    "# File Manipulation!\n",
    "\n",
    "Here, we will go over some ways to load in, manipulate, and save txt/data files.\n",
    "\n",
    "As with all jupyter notebooks, everything we do here can also be done in an individual python script."
   ]
  },
  {
   "cell_type": "markdown",
   "metadata": {},
   "source": [
    "# Read-in and parse a simple file"
   ]
  },
  {
   "cell_type": "code",
   "execution_count": 1,
   "metadata": {},
   "outputs": [
    {
     "name": "stdout",
     "output_type": "stream",
     "text": [
      "<class 'list'>\n",
      "['0\\n', '1\\n', '2\\n', '3\\n']\n"
     ]
    }
   ],
   "source": [
    "infile = open('blank.txt', 'r') # Creates a text wrapper object that we save to the variable infile\n",
    "lines = infile.readlines() # the text wrapper object has the functional attribute .readlines() \n",
    "                           # which takes each line and assigns it to a list element\n",
    "print(type(lines)) # This shows us that the variable lines is in fact a list!\n",
    "print(lines)"
   ]
  },
  {
   "cell_type": "code",
   "execution_count": 2,
   "metadata": {},
   "outputs": [
    {
     "ename": "TypeError",
     "evalue": "unsupported operand type(s) for +: 'int' and 'str'",
     "output_type": "error",
     "traceback": [
      "\u001b[0;31m---------------------------------------------------------------------------\u001b[0m",
      "\u001b[0;31mTypeError\u001b[0m                                 Traceback (most recent call last)",
      "\u001b[0;32m<ipython-input-2-a7b19f24afa9>\u001b[0m in \u001b[0;36m<module>\u001b[0;34m\u001b[0m\n\u001b[1;32m      3\u001b[0m \u001b[0mmean\u001b[0m \u001b[0;34m=\u001b[0m \u001b[0;36m0\u001b[0m\u001b[0;34m\u001b[0m\u001b[0;34m\u001b[0m\u001b[0m\n\u001b[1;32m      4\u001b[0m \u001b[0;32mfor\u001b[0m \u001b[0mnumber\u001b[0m \u001b[0;32min\u001b[0m \u001b[0mlines\u001b[0m\u001b[0;34m:\u001b[0m\u001b[0;34m\u001b[0m\u001b[0;34m\u001b[0m\u001b[0m\n\u001b[0;32m----> 5\u001b[0;31m     \u001b[0mmean\u001b[0m \u001b[0;34m=\u001b[0m \u001b[0mmean\u001b[0m \u001b[0;34m+\u001b[0m \u001b[0mnumber\u001b[0m\u001b[0;34m\u001b[0m\u001b[0;34m\u001b[0m\u001b[0m\n\u001b[0m\u001b[1;32m      6\u001b[0m \u001b[0mmean\u001b[0m \u001b[0;34m=\u001b[0m \u001b[0mmean\u001b[0m\u001b[0;34m/\u001b[0m\u001b[0mlen\u001b[0m\u001b[0;34m(\u001b[0m\u001b[0mlines\u001b[0m\u001b[0;34m)\u001b[0m\u001b[0;34m\u001b[0m\u001b[0;34m\u001b[0m\u001b[0m\n",
      "\u001b[0;31mTypeError\u001b[0m: unsupported operand type(s) for +: 'int' and 'str'"
     ]
    }
   ],
   "source": [
    "# Becasue the variable lines is a list, we can parse it like we did in Lesson 2\n",
    "\n",
    "mean = 0 \n",
    "for number in lines:\n",
    "    mean = mean + number\n",
    "mean = mean/len(lines)"
   ]
  },
  {
   "cell_type": "code",
   "execution_count": 3,
   "metadata": {},
   "outputs": [
    {
     "name": "stdout",
     "output_type": "stream",
     "text": [
      "1.5\n"
     ]
    }
   ],
   "source": [
    "# Hmm... that didn't work. \n",
    "# Seens like the elements inside of the variable lines are strings so we cant add them to an integer.\n",
    "\n",
    "mean = 0 \n",
    "for line in lines:\n",
    "    number = float(line)\n",
    "    mean = mean + number\n",
    "mean = mean/len(lines)\n",
    "\n",
    "print(mean)"
   ]
  },
  {
   "cell_type": "markdown",
   "metadata": {},
   "source": [
    "## Parse a more complicated file\n",
    "\n",
    "If lines in a file are more complex say, for instance, several words separated by commas, our previous method of reading in the lines wont allow us to access each individual word. We will instead get a list of individual strings that include the several words and commas.\n",
    "\n",
    "Instead, we can split a string by defining a delimiter."
   ]
  },
  {
   "cell_type": "code",
   "execution_count": 5,
   "metadata": {},
   "outputs": [
    {
     "name": "stdout",
     "output_type": "stream",
     "text": [
      "first line of the file numbers[0]:  34,6,3,65,1234,56,56\n",
      "\n",
      "has the type: <class 'str'>\n",
      "but if I try to print the first number numbers[0][0]: ,\n"
     ]
    }
   ],
   "source": [
    "infile = open('numbers.csv', 'r')\n",
    "\n",
    "numbers = infile.readlines()\n",
    "print(\"first line of the file numbers[0]: \",numbers[0])\n",
    "print(\"has the type:\", type(numbers[0]))\n",
    "print(\"but if I try to print the first number numbers[0][0]:\", numbers[0][2])"
   ]
  },
  {
   "cell_type": "code",
   "execution_count": 7,
   "metadata": {},
   "outputs": [
    {
     "name": "stdout",
     "output_type": "stream",
     "text": [
      ".split(') generates a new list of strings but without the commas\n",
      "['34', '6', '3', '65', '1234', '56', '56\\n']\n",
      "34\n"
     ]
    }
   ],
   "source": [
    "# We can take the comma-separated string of numbers in the first element spot \n",
    "# in numbers and split the string along the commas.\n",
    "num_delim = numbers[0].split(',')\n",
    "print(\".split(') generates a new list of strings but without the commas\")\n",
    "print(num_delim)\n",
    "print(num_delim[0])"
   ]
  },
  {
   "cell_type": "markdown",
   "metadata": {},
   "source": [
    "If data is stored in multiple columns you can read it in using a numpy function."
   ]
  },
  {
   "cell_type": "code",
   "execution_count": 10,
   "metadata": {},
   "outputs": [],
   "source": [
    "import numpy as np\n",
    "block_data = np.genfromtxt(\"./block_data.txt\",dtype='str')"
   ]
  },
  {
   "cell_type": "code",
   "execution_count": 9,
   "metadata": {},
   "outputs": [
    {
     "name": "stdout",
     "output_type": "stream",
     "text": [
      "[['Month' 'Year' 'Money']\n",
      " ['January' '2014' '10']\n",
      " ['February' '2014' '15']\n",
      " ['March' '2014' '16']\n",
      " ['April' '2014' '20']\n",
      " ['May' '2014' '19']\n",
      " ['June' '2014' '11']\n",
      " ['July' '2014' '20']\n",
      " ['August' '2014' '21']\n",
      " ['September' '2014' '22']\n",
      " ['November' '2014' '20']\n",
      " ['August' '2015' '22']\n",
      " ['September' '2015' '27']\n",
      " ['May' '2015' '21']\n",
      " ['January' '2015' '20']]\n"
     ]
    }
   ],
   "source": [
    "print(block_data)"
   ]
  },
  {
   "cell_type": "markdown",
   "metadata": {},
   "source": [
    "# Practicals! Do 1-2\n",
    "\n",
    "1. Read words from 'words.txt' into a list and sort the list. \n",
    "\n",
    "2. Read the comma separated file 'numbers.csv' and store the 1st and 4th column in a list"
   ]
  },
  {
   "cell_type": "code",
   "execution_count": 17,
   "metadata": {},
   "outputs": [
    {
     "name": "stdout",
     "output_type": "stream",
     "text": [
      "['brown', 'brown', 'brown', 'brown', 'cat', 'cat', 'cat', 'cat', 'cow', 'cow', 'cow', 'cow', 'fluffy', 'fluffy', 'fluffy', 'fluffy', 'fluffy', 'fluffy', 'fluffy', 'fluffy', 'goat', 'goat', 'goat', 'goat', 'goat', 'goat', 'goat', 'goat', 'happy', 'happy', 'happy', 'happy', 'house', 'house', 'house', 'house', 'linux', 'linux', 'linux', 'linux', 'linux', 'linux', 'linux', 'linux', 'moose', 'moose', 'moose', 'moose', 'moose', 'moose', 'moose', 'moose', 'zebra', 'zebra', 'zebra', 'zebra']\n"
     ]
    }
   ],
   "source": [
    "# Practical 1.\n",
    "input_file = open('words.txt')\n",
    "lines = []\n",
    "for line in input_file:\n",
    "    lines.append(line.strip('\\n'))\n",
    "    lines.sort()\n",
    "print(lines)\n",
    "\n",
    "input_file.close()\n",
    "\n"
   ]
  },
  {
   "cell_type": "code",
   "execution_count": 18,
   "metadata": {},
   "outputs": [],
   "source": [
    "# Practical 2.\n",
    "import csv\n"
   ]
  },
  {
   "cell_type": "markdown",
   "metadata": {},
   "source": [
    "## Writing to a file\n",
    "\n",
    "Same thing, use the open() function but we need to set it to write mode instead of read-only\n",
    "\n",
    "\n",
    "    r: Opens the file in read-only mode. Starts reading from the beginning of the file and is the default mode for the open() function.\n",
    "\n",
    "    rb: Opens the file as read-only in binary format and starts reading from the beginning of the file. While binary format can be used for different purposes, it is usually used when dealing with things like images, videos, etc.\n",
    "\n",
    "    r+: Opens a file for reading and writing, placing the pointer at the beginning of the file.\n",
    "\n",
    "    w: Opens in write-only mode. The pointer is placed at the beginning of the file and this will overwrite any existing file with the same name. It will create a new file if one with the same name doesn't exist.\n",
    "   \n",
    "    wb: Opens a write-only file in binary mode.\n",
    "\n",
    "    w+: Opens a file for writing and reading.\n",
    "\n",
    "    wb+: Opens a file for writing and reading in binary mode.\n",
    "\n",
    "    a: Opens a file for appending new information to it. The pointer is placed at the end of the file. A new file is created if one with the same name doesn't exist.\n",
    "\n",
    "    ab: Opens a file for appending in binary mode.\n",
    "\n",
    "    a+: Opens a file for both appending and reading.\n",
    "\n",
    "    ab+: Opens a file for both appending and reading in binary mode."
   ]
  },
  {
   "cell_type": "code",
   "execution_count": 19,
   "metadata": {},
   "outputs": [],
   "source": [
    "new_test_file = open('./new_test_file.txt', 'w')\n",
    "\n",
    "new_test_file.write(\"Testing Testing 1 2 3\")\n",
    "# At this point the file will have been created, but nothing officially written to it until we close it!\n",
    "\n",
    "new_test_file.close()\n",
    "#There we go, all written!\n"
   ]
  },
  {
   "cell_type": "markdown",
   "metadata": {},
   "source": [
    "# Dictionaries\n",
    "\n",
    "Similar to lists but a bit more powerful in their organization. Built using a 'key : value' pair\n",
    "\n",
    "    D = {}              #empty dictionary\n",
    "    \n",
    "    D = {'my_key' : 5}  #one entry\n",
    "    \n",
    "    D['my_key']         #access value"
   ]
  },
  {
   "cell_type": "code",
   "execution_count": 21,
   "metadata": {},
   "outputs": [
    {
     "name": "stdout",
     "output_type": "stream",
     "text": [
      "{'Oslo': 13, 'London': 15.4, 'Paris': 17.5}\n",
      "15.4\n",
      "{'Oslo': 13, 'London': 15.4, 'Paris': 17.5, 'Madrid': 26.0}\n"
     ]
    }
   ],
   "source": [
    "# I'll build us an example dictionary to play with\n",
    "temps = {'Oslo':13, 'London':15.4, 'Paris':17.5}\n",
    "print(temps)\n",
    "print(temps['London'])\n",
    "\n",
    "# Add a new key and value\n",
    "temps['Madrid'] = 26.0\n",
    "print(temps)"
   ]
  },
  {
   "cell_type": "markdown",
   "metadata": {},
   "source": [
    "## Looping over Dictionaries"
   ]
  },
  {
   "cell_type": "code",
   "execution_count": 22,
   "metadata": {},
   "outputs": [
    {
     "name": "stdout",
     "output_type": "stream",
     "text": [
      "The temperature in Oslo is 13\n",
      "The temperature in London is 15.4\n",
      "The temperature in Paris is 17.5\n",
      "The temperature in Madrid is 26\n"
     ]
    }
   ],
   "source": [
    "# We can print out the dictionary information in a nice way\n",
    "\n",
    "for city in temps:\n",
    "    print('The temperature in %s is %g'%(city, temps[city]))"
   ]
  },
  {
   "cell_type": "code",
   "execution_count": 23,
   "metadata": {},
   "outputs": [
    {
     "name": "stdout",
     "output_type": "stream",
     "text": [
      "No temperature data for Berlin\n"
     ]
    }
   ],
   "source": [
    "# And we can check if a certain key exists and give nice output if it does/doesn't\n",
    "if 'Berlin' in temps:\n",
    "    print('Berlin', temps['Berlin'])\n",
    "else:\n",
    "    print('No temperature data for Berlin')"
   ]
  },
  {
   "cell_type": "markdown",
   "metadata": {},
   "source": [
    "# Practicals!\n",
    "\n",
    "3. Read in the file block_data.txt using either loadtxt or genfromtxt. Print the month and year that made the most money.\n",
    "\n",
    "4. Print cos(x) to a file in pairs\n",
    "\n",
    "5. Read words from words.txt and count how many times they occur"
   ]
  },
  {
   "cell_type": "code",
   "execution_count": 29,
   "metadata": {},
   "outputs": [
    {
     "name": "stdout",
     "output_type": "stream",
     "text": [
      "The most money was earned in August, 2015 which was $27k\n"
     ]
    }
   ],
   "source": [
    "# Practical 3\n",
    "\n",
    "import numpy as np\n",
    "\n",
    "#import file into list\n",
    "file_name = 'block_data.txt'\n",
    "month = np.genfromtxt(file_name, usecols=[0], dtype='str')\n",
    "years, money = np.loadtxt(file_name, usecols=[1,2], skiprows=1, dtype='int', unpack=True)\n",
    "\n",
    "max_val = max(money)\n",
    "index = list(money).index(max_val)\n",
    "\n",
    "print(\"The most money was earned in %s, %d which was $%dk\" % (month[index], years[index], money[index]))"
   ]
  },
  {
   "cell_type": "code",
   "execution_count": 30,
   "metadata": {},
   "outputs": [
    {
     "name": "stdout",
     "output_type": "stream",
     "text": [
      "printing values\n",
      "All Done\n"
     ]
    }
   ],
   "source": [
    "# Practical 4\n",
    "import math as m\n",
    "\n",
    "#Print cos(x) to a file in pairs\n",
    "\n",
    "#setup for  x values\n",
    "dx = 0.1\n",
    "start = 0\n",
    "stop = 2*m.pi\n",
    "N = (stop - start) / dx\n",
    "\n",
    "#create writeable file\n",
    "input_file = open('cos_vals.txt', 'w')\n",
    "\n",
    "\n",
    "#get values and store them\n",
    "print('printing values')\n",
    "print('X values, Cos(X) values', file=input_file)\n",
    "\n",
    "while start < stop:\n",
    "\ty_val = m.cos(start)\n",
    "\t#input_file.write(str(round(start,ndigits=2))+' '+str(y_val)+'\\n')\n",
    "\tprint(str(round(start,ndigits=1))+' '+str(y_val),file=input_file)\n",
    "\tstart += dx\n",
    "\n",
    "#CLOSE THE FILE\n",
    "input_file.close()\n",
    "print('All Done')\n"
   ]
  },
  {
   "cell_type": "code",
   "execution_count": 37,
   "metadata": {},
   "outputs": [
    {
     "name": "stdout",
     "output_type": "stream",
     "text": [
      "{'happy': 4, 'brown': 4, 'cat': 4, 'fluffy': 8, 'goat': 8, 'cow': 4, 'moose': 8, 'linux': 8, 'zebra': 4, 'house': 4}\n"
     ]
    }
   ],
   "source": [
    "# Practical 5\n",
    "\n",
    "import numpy as np\n",
    "\n",
    "#Read in words.txt\n",
    "\n",
    "file = open('words.txt', 'r')\n",
    "\n",
    "#Create empty Dictionary\n",
    "Dict = {}\n",
    "\n",
    "for i in file:\n",
    "    i = i.strip('\\n')\n",
    "    if i in Dict:\n",
    "        Dict[i.strip('\\n')] += 1\n",
    "    else:\n",
    "        Dict[i.strip('\\n')] = 1\n",
    "\n",
    "print(Dict)"
   ]
  },
  {
   "cell_type": "markdown",
   "metadata": {},
   "source": [
    "# Storing Data Objects\n",
    "\n",
    "pickle https://docs.python.org/3/library/pickle.html\n",
    "\n",
    "A brief warning: pickle is not secure, meaning you are able to unpickle any file you tell your computer to, not matter what the repercussions might be. It's completely safe to use for your own work and research, but do go downloading and opening strange pickles from the web.\n",
    "\n",
    "json https://docs.python.org/3/library/json.html"
   ]
  },
  {
   "cell_type": "code",
   "execution_count": 38,
   "metadata": {},
   "outputs": [],
   "source": [
    "import pickle"
   ]
  },
  {
   "cell_type": "code",
   "execution_count": 39,
   "metadata": {},
   "outputs": [
    {
     "name": "stdout",
     "output_type": "stream",
     "text": [
      "4\n",
      "True\n"
     ]
    }
   ],
   "source": [
    "# Im going to store our temps dictionary in a pickle object \n",
    "with open('./temps.pickle', 'wb') as temp_file:\n",
    "    pickle.dump(temps, temp_file, protocol=pickle.HIGHEST_PROTOCOL)\n",
    "    \n",
    "with open('./temps.pickle', 'rb') as temp_file:\n",
    "    temp2 = pickle.load(temp_file)\n",
    "print(pickle.HIGHEST_PROTOCOL)\n",
    "print(temps == temp2)"
   ]
  },
  {
   "cell_type": "markdown",
   "metadata": {},
   "source": [
    "By the way, the protocol option is NOT necessary. However, the python2 pickle will dump files with protocol=0 and Python3 uses protocol=2 by defualt and protocol=4 at HIGHEST_PROTOCOL. \n",
    "\n",
    "The higher the protocol, the smaller the resulting binary file. This is generally not important unless you are doing some major pickling. "
   ]
  },
  {
   "cell_type": "code",
   "execution_count": null,
   "metadata": {},
   "outputs": [],
   "source": []
  }
 ],
 "metadata": {
  "kernelspec": {
   "display_name": "Python 3",
   "language": "python",
   "name": "python3"
  },
  "language_info": {
   "codemirror_mode": {
    "name": "ipython",
    "version": 3
   },
   "file_extension": ".py",
   "mimetype": "text/x-python",
   "name": "python",
   "nbconvert_exporter": "python",
   "pygments_lexer": "ipython3",
   "version": "3.7.7"
  }
 },
 "nbformat": 4,
 "nbformat_minor": 4
}
