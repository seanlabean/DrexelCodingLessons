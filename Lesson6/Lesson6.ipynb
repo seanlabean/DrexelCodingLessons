{
 "cells": [
  {
   "cell_type": "markdown",
   "metadata": {},
   "source": [
    "# Practicals!\n",
    "\n",
    " Make more cells by going to \"Insert\" and selecting \"cell above/below\".\n",
    " \n",
    " Try to work everything out here and then create a blank python script in this directory to do the same operation.'\n",
    " \n",
    "GENERAL HINTS\n",
    " \n",
    "* Print statements are your friends!\n",
    "* Sometimes the best way to build up a script is to first sketch it out on some paper, visualize your end-goal and the write out some pseudo-code/ideas for what you will need to do to acheive that goal."
   ]
  },
  {
   "cell_type": "markdown",
   "metadata": {},
   "source": [
    "## Practical 1\n",
    "\n",
    "Create a script that calculates the kinematics of a cannonball:\n",
    "* Prompt the user for height, velocity and angle\n",
    "* Print time-of-flight\n",
    "* Plot the x,y trajectory\n",
    "* Print impact location (x,y)\n",
    "\n",
    "HINT:\n",
    "\n",
    "$x(t) = x_0 + v_0 \\cdot t + 1/2 \\cdot a \\cdot t^2$"
   ]
  },
  {
   "cell_type": "code",
   "execution_count": 6,
   "metadata": {},
   "outputs": [
    {
     "name": "stdout",
     "output_type": "stream",
     "text": [
      "3\n"
     ]
    }
   ],
   "source": [
    "# 1.\n",
    "import numpy as np\n",
    "g = 9.81\n",
    "angle = 30\n",
    "height = 10\n",
    "vel = 5\n",
    "max(np.roots([-0.5*g, vel*np.sin(np.deg2rad(angle)), height]))\n",
    "\n",
    "x = np.array([0, 1, 2, 3])\n",
    "print(x[-1])"
   ]
  },
  {
   "cell_type": "markdown",
   "metadata": {},
   "source": [
    "## Practical 2\n",
    "\n",
    "Create a script to play rock-paper-scissors:\n",
    "* Prompt the user a choice\n",
    "* Print the result based off computer choice\n",
    "\n",
    "Hint: Dictionaries can help turn strings into numbers for comparison."
   ]
  },
  {
   "cell_type": "code",
   "execution_count": null,
   "metadata": {},
   "outputs": [],
   "source": [
    "# 2.\n"
   ]
  },
  {
   "cell_type": "markdown",
   "metadata": {},
   "source": [
    "## Practical 3\n",
    "Create a script to read `junk.txt` and sort values:\n",
    "* Sort words alphabetically, and save to file.\n",
    "* Sort numbers numerically and save to file.\n",
    "* Return mean, median, and standard deviation of numbers.\n",
    "* Plot a bar chart for the counts of unique words.\n",
    "\n",
    "HINT:\n",
    "\n",
    "Values are either alphabetic strings, integers or random symbol strings."
   ]
  },
  {
   "cell_type": "code",
   "execution_count": null,
   "metadata": {},
   "outputs": [],
   "source": [
    "# 3.\n"
   ]
  },
  {
   "cell_type": "markdown",
   "metadata": {},
   "source": [
    "## Practical 4\n",
    "Create a script to read in `scores.csv` and create subplots:\n",
    "* Create histograms for each section and full class list.\n",
    "* Calculate the mean and std for all sections, and full class list.\n",
    "* Save final figure as PNG file.\n",
    "\n",
    "HINT:\n",
    "\n",
    "numpy.genfromtxt() can intelligently evaluate entry datatype with dtype=None"
   ]
  },
  {
   "cell_type": "code",
   "execution_count": null,
   "metadata": {},
   "outputs": [],
   "source": [
    "# 4.\n"
   ]
  },
  {
   "cell_type": "markdown",
   "metadata": {},
   "source": [
    "## Practical 5\n",
    "Create a simple Monte Carlo script to estimate the value for $\\pi$.\n",
    "* Randomly (and uniformly) fill a square region with N datapoints.\n",
    "* Count the number inside a circle embedded in that square.\n",
    "* Compare the numbers to estimate the value of pi.\n",
    "* Plot the points inside and out of the circular region to illustrate the method.\n",
    "\n",
    "HINT:\n",
    "\n",
    "I think of Monte Carlo as \"Do a random action many many times to enable the extraction of patterns or order from a system\". In this case, what are we effectively measuring with our random points?"
   ]
  },
  {
   "cell_type": "code",
   "execution_count": null,
   "metadata": {},
   "outputs": [],
   "source": [
    "# 5.\n"
   ]
  }
 ],
 "metadata": {
  "kernelspec": {
   "display_name": "Python 3",
   "language": "python",
   "name": "python3"
  },
  "language_info": {
   "codemirror_mode": {
    "name": "ipython",
    "version": 3
   },
   "file_extension": ".py",
   "mimetype": "text/x-python",
   "name": "python",
   "nbconvert_exporter": "python",
   "pygments_lexer": "ipython3",
   "version": "3.7.7"
  }
 },
 "nbformat": 4,
 "nbformat_minor": 4
}
