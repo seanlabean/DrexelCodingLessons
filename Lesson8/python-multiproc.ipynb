{
 "cells": [
  {
   "cell_type": "code",
   "execution_count": 13,
   "metadata": {},
   "outputs": [],
   "source": [
    "#First let's create a test script for proof of concept. \n",
    "#This is a simple data structure transformation script taken from\n",
    "#Youtuber 'Real Python' at https://www.youtube.com/watch?v=aysceqdGFw8\n",
    "\n",
    "#Let's make the proper imports.\n",
    "import collections\n",
    "import os\n",
    "import time\n",
    "from pprint import pprint"
   ]
  },
  {
   "cell_type": "markdown",
   "metadata": {},
   "source": [
    "# Serial Processing"
   ]
  },
  {
   "cell_type": "markdown",
   "metadata": {},
   "source": [
    "The following code will generate a tuple consisting of scientist names and data about them. Then, the tuple is passed through the 'map' process which performs a simple act on each element of the input tuple. The resulting act is saved in a second tuple and then the next entry is processed.\n",
    "\n",
    "This is performed on one processor on one thread, so the computer must wait for the first entry to finish processing until the second one can begin. \n",
    "\n",
    "With the addition of a time.sleep() requirement, this can take quite some time!"
   ]
  },
  {
   "cell_type": "code",
   "execution_count": 14,
   "metadata": {},
   "outputs": [
    {
     "name": "stdout",
     "output_type": "stream",
     "text": [
      "(Scientist(name='Sean Lewis', field='Astrophysics', born=1994, PhD=False),\n",
      " Scientist(name='Weixiang Yu', field='Astronomy', born=1992, PhD=False),\n",
      " Scientist(name='Jaqueline Moreno', field='Astronomy', born=1991, PhD=True),\n",
      " Scientist(name='Stephen Sclafani', field='Particle', born=1986, PhD=False),\n",
      " Scientist(name='Eli Worth', field='Condensed Matter', born=1993, PhD=False),\n",
      " Scientist(name='David Lioi', field='Biophysics', born=1990, PhD=True))\n",
      "\n",
      "Process 45536 working record Sean Lewis\n",
      "\n",
      "Process 45536 done processing record Sean Lewis\n",
      "\n",
      "Process 45536 working record Weixiang Yu\n",
      "\n",
      "Process 45536 done processing record Weixiang Yu\n",
      "\n",
      "Process 45536 working record Jaqueline Moreno\n",
      "\n",
      "Process 45536 done processing record Jaqueline Moreno\n",
      "\n",
      "Process 45536 working record Stephen Sclafani\n",
      "\n",
      "Process 45536 done processing record Stephen Sclafani\n",
      "\n",
      "Process 45536 working record Eli Worth\n",
      "\n",
      "Process 45536 done processing record Eli Worth\n",
      "\n",
      "Process 45536 working record David Lioi\n",
      "\n",
      "Process 45536 done processing record David Lioi\n",
      "\n",
      "\n",
      "({'age': 26, 'name': 'Sean Lewis'},\n",
      " {'age': 28, 'name': 'Weixiang Yu'},\n",
      " {'age': 29, 'name': 'Jaqueline Moreno'},\n",
      " {'age': 34, 'name': 'Stephen Sclafani'},\n",
      " {'age': 27, 'name': 'Eli Worth'},\n",
      " {'age': 30, 'name': 'David Lioi'})\n",
      "\n",
      " Time to complete:  6.026\n"
     ]
    }
   ],
   "source": [
    "Scientist = collections.namedtuple('Scientist', [\n",
    "    'name',\n",
    "    'field',\n",
    "    'born',\n",
    "    'PhD',\n",
    "])\n",
    "\n",
    "scientists = (\n",
    "    Scientist(name='Sean Lewis', field='Astrophysics', born=1994, PhD=False),\n",
    "    Scientist(name='Weixiang Yu', field='Astronomy', born=1992, PhD=False),\n",
    "    Scientist(name='Jaqueline Moreno', field='Astronomy', born=1991, PhD=True),\n",
    "    Scientist(name='Stephen Sclafani', field='Particle', born=1986, PhD=False),\n",
    "    Scientist(name='Eli Worth', field='Condensed Matter', born=1993, PhD=False),\n",
    "    Scientist(name='David Lioi', field='Biophysics', born=1990, PhD=True)\n",
    ")\n",
    "\n",
    "pprint(scientists)\n",
    "\n",
    "def transform(x):\n",
    "    print('\\nProcess ' + str(os.getpid()) + ' working record ' + str(x.name))\n",
    "    time.sleep(1)\n",
    "    result = {'name': x.name, 'age': 2020 - x.born}\n",
    "    print('\\nProcess ' + str(os.getpid()) + ' done processing record ' + str(x.name))\n",
    "    \n",
    "    return result\n",
    "\n",
    "start = time.time()\n",
    "\n",
    "\n",
    "result = tuple(map(\n",
    "    transform,\n",
    "    scientists\n",
    "))\n",
    "\n",
    "end = time.time()\n",
    "elapsed = end - start\n",
    "\n",
    "print('\\n')\n",
    "pprint(result)\n",
    "print('\\n Time to complete:  {0:.3f}'.format(elapsed))"
   ]
  },
  {
   "cell_type": "markdown",
   "metadata": {},
   "source": [
    "Great! We can see the input, which computer core is doing the processing for each task, the output, and the total time to complete the cell. Obviously from the output, the same core is processing each task, and we can watch each task crawl its way through. How can we utilize the full capacity of the quad-core processor in the MacBook Pro?"
   ]
  },
  {
   "cell_type": "markdown",
   "metadata": {},
   "source": [
    "# Parallel Processing"
   ]
  },
  {
   "cell_type": "code",
   "execution_count": 15,
   "metadata": {},
   "outputs": [
    {
     "name": "stdout",
     "output_type": "stream",
     "text": [
      "(Scientist(name='Sean Lewis', field='Astrophysics', born=1994, PhD=False),\n",
      " Scientist(name='Weixiang Yu', field='Astronomy', born=1992, PhD=False),\n",
      " Scientist(name='Jaqueline Moreno', field='Astronomy', born=1991, PhD=True),\n",
      " Scientist(name='Stephen Sclafani', field='Particle', born=1986, PhD=False),\n",
      " Scientist(name='Eli Worth', field='Condensed Matter', born=1993, PhD=False),\n",
      " Scientist(name='David Lioi', field='Biophysics', born=1990, PhD=True))\n",
      "\n",
      "\n",
      "\n",
      "Process 45866 working record Sean Lewis\n",
      "Process 45869 working record Stephen Sclafani\n",
      "Process 45868 working record Jaqueline Moreno\n",
      "Process 45867 working record Weixiang Yu\n",
      "Process 45871 working record David Lioi\n",
      "Process 45870 working record Eli Worth\n",
      "\n",
      "\n",
      "\n",
      "\n",
      "\n",
      "\n",
      "Process 45867 done processing record Weixiang Yu\n",
      "Process 45868 done processing record Jaqueline Moreno\n",
      "Process 45869 done processing record Stephen Sclafani\n",
      "Process 45871 done processing record David Lioi\n",
      "Process 45866 done processing record Sean Lewis\n",
      "Process 45870 done processing record Eli Worth\n",
      "\n",
      "\n",
      "\n",
      "\n",
      "\n",
      "\n",
      "\n",
      "[{'age': 26, 'name': 'Sean Lewis'},\n",
      " {'age': 28, 'name': 'Weixiang Yu'},\n",
      " {'age': 29, 'name': 'Jaqueline Moreno'},\n",
      " {'age': 34, 'name': 'Stephen Sclafani'},\n",
      " {'age': 27, 'name': 'Eli Worth'},\n",
      " {'age': 30, 'name': 'David Lioi'}]\n",
      "\n",
      " Time to complete:  1.101\n"
     ]
    }
   ],
   "source": [
    "import multiprocessing\n",
    "\n",
    "pprint(scientists)\n",
    "\n",
    "start = time.time()\n",
    "print('\\n')\n",
    "\n",
    "pool = multiprocessing.Pool()\n",
    "result = pool.map(transform, scientists)\n",
    "\n",
    "end = time.time()\n",
    "\n",
    "\n",
    "print('\\n')\n",
    "pprint(result)\n",
    "print('\\n Time to complete:  {0:.3f}'.format(end-start))"
   ]
  },
  {
   "cell_type": "markdown",
   "metadata": {},
   "source": [
    "As you can see, there are 6 different processors that are active in this execution. They each take on one task, this being the transform function on one data table entry and all execute simultaneously. The result is a process that completes ~6x faster than before! "
   ]
  }
 ],
 "metadata": {
  "kernelspec": {
   "display_name": "Python 3",
   "language": "python",
   "name": "python3"
  },
  "language_info": {
   "codemirror_mode": {
    "name": "ipython",
    "version": 3
   },
   "file_extension": ".py",
   "mimetype": "text/x-python",
   "name": "python",
   "nbconvert_exporter": "python",
   "pygments_lexer": "ipython3",
   "version": "3.7.7"
  }
 },
 "nbformat": 4,
 "nbformat_minor": 2
}
