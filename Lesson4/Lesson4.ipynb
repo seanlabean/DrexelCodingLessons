{
 "cells": [
  {
   "cell_type": "markdown",
   "metadata": {},
   "source": [
    "# Scientific computing in Python"
   ]
  },
  {
   "cell_type": "markdown",
   "metadata": {},
   "source": [
    "## Arrays in Python\n",
    "\n",
    "Arrays are a very useful and *fast* way of storing and manipulating like-type data. \n",
    "\n",
    "Their rapid computation is due to their ability to be initialized once at the beginning of a scipt and then referenced there-on out without needing to rewrite a new array to memory. Lists are slower because when a list is referenced and altered, the ENTIRE list has to be processed and written to memory. This effect does not matter all that much when dealing with small amounts of data. But if you have 1,000s or 10,000s of data points or are setting elements many times, arrays will save you significant time.\n",
    "\n",
    "Arrays are not a part of the standard Python distribution, their functionality must instead be imported from separate libraries like `scipy` or `numpy`.\n",
    "\n",
    "These arrays also include vectorization, meaning we can issue mathematica operations on the array as a whole rather than on individual elements. We'll show an example of this in a bit.\n",
    "\n",
    "https://numpy.org/devdocs/user/absolute_beginners.html"
   ]
  },
  {
   "cell_type": "code",
   "execution_count": 2,
   "metadata": {},
   "outputs": [],
   "source": [
    "# Let's import numpy. We only have to do this once in our notebook, \n",
    "# but if we reopen it or reset the kernal, make sure to run this cell again.\n",
    "import numpy as np"
   ]
  },
  {
   "cell_type": "code",
   "execution_count": 3,
   "metadata": {},
   "outputs": [
    {
     "name": "stdout",
     "output_type": "stream",
     "text": [
      "a_arr: [0. 1. 2. 3. 4.]\n",
      "Check the type of a_arr:  <class 'numpy.ndarray'>\n",
      "\n",
      "array of zeros: [0. 0. 0. 0. 0.]\n"
     ]
    }
   ],
   "source": [
    "# We can convert a standard Python list into a numpy array.\n",
    "x_list = [0., 1., 2., 3., 4.]\n",
    "a_arr = np.array(x_list)\n",
    "\n",
    "print(\"a_arr:\", a_arr)\n",
    "print(\"Check the type of a_arr: \",type(a_arr))\n",
    "\n",
    "# We can also initialize a numpy array as an array of zeros. \n",
    "# This reserves space in memory so we can access it quickly later.\n",
    "\n",
    "b_arr = np.zeros(5)\n",
    "print(\"\\narray of zeros:\", b_arr)"
   ]
  },
  {
   "cell_type": "code",
   "execution_count": 4,
   "metadata": {},
   "outputs": [
    {
     "name": "stdout",
     "output_type": "stream",
     "text": [
      "[0. 1. 2. 3. 4. 5. 6. 7. 8. 9.]\n",
      "[ 0.          1.11111111  2.22222222  3.33333333  4.44444444  5.55555556\n",
      "  6.66666667  7.77777778  8.88888889 10.        ]\n"
     ]
    }
   ],
   "source": [
    "# We can also create populated arrays in two ways.\n",
    "# arange(start, end, step_size) does not include end value\n",
    "\n",
    "c_arr = np.arange(0.0, 10.0, 1.0)\n",
    "print(c_arr)\n",
    "\n",
    "# linspace(start, end, number_of_elements) does include end value \n",
    "d_arr = np.linspace(0.0, 10.0, 10)\n",
    "print(d_arr)"
   ]
  },
  {
   "cell_type": "markdown",
   "metadata": {},
   "source": [
    "## Array Manipulation: Slicing and Setting elements"
   ]
  },
  {
   "cell_type": "code",
   "execution_count": 7,
   "metadata": {},
   "outputs": [
    {
     "name": "stdout",
     "output_type": "stream",
     "text": [
      "array x, sliced from d_arr:  [14.3         2.22222222  3.33333333  4.44444444]\n",
      "new array x: [14.3         2.22222222  3.33333333  4.44444444]\n",
      "\n",
      "d_arr: [ 0.         14.3         2.22222222  3.33333333  4.44444444  5.55555556\n",
      "  6.66666667  7.77777778  8.88888889 10.        ]\n"
     ]
    }
   ],
   "source": [
    "# Can slice arrays similar to lists\n",
    "x = d_arr[1:5]\n",
    "print(\"array x, sliced from d_arr: \",x)\n",
    "\n",
    "# Now, let's change the first element of this new array x\n",
    "x[0] = 14.3\n",
    "print(\"new array x:\", x)\n",
    "\n",
    "# But.. hold on a sec, let's check back in on d_arr\n",
    "print(\"\\nd_arr:\", d_arr)"
   ]
  },
  {
   "cell_type": "markdown",
   "metadata": {},
   "source": [
    "### Array pointers vs. copies\n",
    "So, even if we assign part of an array to a new variable, that new variable simply points back to the original array. Any changes we make to the pointer influences the source array.\n",
    "\n",
    "If we want to instead create a separate array and make changes without affecting the original, we have to make a copy."
   ]
  },
  {
   "cell_type": "code",
   "execution_count": 8,
   "metadata": {},
   "outputs": [
    {
     "name": "stdout",
     "output_type": "stream",
     "text": [
      "array x, copied & sliced from d_arr:  [ 6.66666667  7.77777778  8.88888889 10.        ]\n",
      "new array x, replace 10.0 with 14.3: [ 6.66666667  7.77777778  8.88888889 14.3333    ]\n",
      "\n",
      "d_arr: [ 0.         14.3         2.22222222  3.33333333  4.44444444  5.55555556\n",
      "  6.66666667  7.77777778  8.88888889 10.        ]\n"
     ]
    }
   ],
   "source": [
    "x = d_arr[6:10].copy()\n",
    "print(\"array x, copied & sliced from d_arr: \",x)\n",
    "\n",
    "# Now, let's change the first element of this new array x\n",
    "x[-1] = 14.3333\n",
    "print(\"new array x, replace 10.0 with 14.3:\", x)\n",
    "\n",
    "# And d_arr should be the same as in the previous cell.\n",
    "print(\"\\nd_arr:\", d_arr)"
   ]
  },
  {
   "cell_type": "markdown",
   "metadata": {},
   "source": [
    "## Array Vectorization\n",
    "\n",
    "No more need for looping over all elements to do some math!\n",
    "\n",
    "y = np.array([12,22,37,43,51])\n",
    "\n",
    "Given an array y, do the calculation:\n",
    "\n",
    "$sin(y_{i})cos(y_{i}) e^{-y_{i}^2} + \\frac{2}{y_{i}}$\n",
    "\n",
    "Where $y_i$ represents each element of the array y."
   ]
  },
  {
   "cell_type": "code",
   "execution_count": 9,
   "metadata": {},
   "outputs": [
    {
     "name": "stdout",
     "output_type": "stream",
     "text": [
      "y_new: [0.16666667 0.09090909 0.05405405 0.04651163 0.03921569]\n",
      "\n",
      "y_new no looping: [0.16666667 0.09090909 0.05405405 0.04651163 0.03921569]\n"
     ]
    }
   ],
   "source": [
    "# If we tried to do this in the same way we did before, we would do somethign like this\n",
    "y = np.array([12,22,37,43,51])\n",
    "y_new = np.zeros(len(y))\n",
    "for i, elem in enumerate(y):\n",
    "    y_new[i] = np.sin(y[i]) * np.cos(y[i]) * np.exp(-y[i]**2) + 2/y[i]\n",
    "    \n",
    "print(\"y_new:\", y_new)\n",
    "\n",
    "# We can do this quicker and simpler now though!\n",
    "y_new = np.sin(y) * np.cos(y) * np.exp(-y**2) + 2/y\n",
    "\n",
    "print(\"\\ny_new no looping:\", y_new)"
   ]
  },
  {
   "cell_type": "markdown",
   "metadata": {},
   "source": [
    "# Timing\n",
    "\n",
    "Let's do another vectorization test, but this time let's see how much time we save via vectorization."
   ]
  },
  {
   "cell_type": "code",
   "execution_count": 11,
   "metadata": {},
   "outputs": [
    {
     "name": "stdout",
     "output_type": "stream",
     "text": [
      "time elapsed: 0.0345228500000303\n",
      "-----Now Vectorize it-----\n",
      "time elapsed: 0.00116820400035067\n"
     ]
    }
   ],
   "source": [
    "import time\n",
    "\n",
    "start = time.perf_counter()\n",
    "N=10000\n",
    "x = np.zeros(N); y = np.zeros(N)\n",
    "dx = 2.0/(N-1) # spacing of x coordinates\n",
    "\n",
    "for i in range(N):\n",
    "    x[i] = -1 + dx*i\n",
    "    y[i] = np.exp(-x[i])*x[i]\n",
    "end = time.perf_counter()\n",
    "time_elapsed = end-start\n",
    "print(\"time elapsed:\", time_elapsed)\n",
    "\n",
    "print(\"-----Now Vectorize it-----\")\n",
    "start = time.perf_counter()\n",
    "x=np.linspace(-1,1,N)\n",
    "y=np.exp(-x)*x\n",
    "end = time.perf_counter()\n",
    "time_elapsed = end-start\n",
    "print(\"time elapsed:\", time_elapsed)"
   ]
  },
  {
   "cell_type": "markdown",
   "metadata": {},
   "source": [
    "There may not be a very big difference between the two methods in terms of timing (I've actually seen the \"old way\" operating faster from time to time). But try the above cell again and set N=10000.\n",
    "\n",
    "On my machine, the vectorized method is 80x faster!!\n",
    "\n",
    "Timing your work is really useful when building up scripts for your research (it also sounds really good when you can tell your research advisor that you improved your code's computation efficiency significantly).\n",
    "\n",
    "Just to hammer things home, let's time the different functions for summing up the components of an array."
   ]
  },
  {
   "cell_type": "code",
   "execution_count": 12,
   "metadata": {},
   "outputs": [
    {
     "name": "stdout",
     "output_type": "stream",
     "text": [
      "sum(x)=150000, calculated in 0.024328 seconds\n",
      "np.sum(x)=150000, calculated in 0.000821 seconds\n",
      "x.sum()=150000, calculated in 0.000479 seconds\n"
     ]
    }
   ],
   "source": [
    "import time\n",
    "N = 100000\n",
    "x=np.linspace(1,2,N)\n",
    "\n",
    "# Built in way\n",
    "start=time.perf_counter()\n",
    "built_in=sum(x)\n",
    "end=time.perf_counter()\n",
    "elapsed=end-start\n",
    "print(\"sum(x)=%d, calculated in %f seconds\"%(built_in, elapsed))\n",
    "\n",
    "# numpy way\n",
    "start=time.perf_counter()\n",
    "numpy_way=np.sum(x)\n",
    "end=time.perf_counter()\n",
    "elapsed=end-start\n",
    "print(\"np.sum(x)=%d, calculated in %f seconds\"%(built_in, elapsed))\n",
    "\n",
    "# array way\n",
    "start=time.perf_counter()\n",
    "numpy_way=x.sum()\n",
    "end=time.perf_counter()\n",
    "elapsed=end-start\n",
    "print(\"x.sum()=%d, calculated in %f seconds\"%(built_in, elapsed))"
   ]
  },
  {
   "cell_type": "markdown",
   "metadata": {},
   "source": [
    "There are other array unitary functions that you should try to use whenever possible to save time!\n",
    "\n",
    "    .sum()\n",
    "    .max()\n",
    "    .min\n",
    "    .prod()\n",
    "    .trace()\n",
    "    .round()\n",
    "    .var()\n",
    "    .conj()\n",
    "    .mean()\n",
    "    .std()\n",
    "    \n",
    "Arrays can also be treated as vectors and vector operations can be used:\n",
    "   \n",
    "    numpy.dot(vec1, vec2)\n",
    "    numpy.cross(vec1, vec2)\n",
    "    \n",
    "And can also perform boolean comparisons.\n",
    "\n",
    "See here for a full summary: http://docs.scipy.org/doc/numpy/reference/routines.logic.html\n"
   ]
  },
  {
   "cell_type": "markdown",
   "metadata": {},
   "source": [
    "# Practicals! Do 1-3\n",
    "\n",
    "1. Create and array of cos(x) and a second array of sin(x) spaced in increments of 0.1. Using these, create a third array  of $cos(x)^2 + sin(x)^2$\n",
    "\n",
    "\n",
    "2. Write a function that computes: $f(x) = x^3 +xe^x +1$ and apply this function to each element in an array.\n",
    "\n",
    "\n",
    "3. Write a function that takes in two vectors and prints whether they are parallel, perpendicular, or neither."
   ]
  },
  {
   "cell_type": "code",
   "execution_count": null,
   "metadata": {},
   "outputs": [],
   "source": [
    "# 1. \n",
    "import numpy as np\n",
    "\n",
    "X = np.arange(0, 2.0*np.pi, 0.1)\n",
    "\n",
    "ANS = np.sin(X)**2 + np.cos(X)**2\n",
    "\n",
    "print(np.sin(X))\n",
    "print(np.cos(X))\n",
    "print(ANS)\n"
   ]
  },
  {
   "cell_type": "code",
   "execution_count": null,
   "metadata": {},
   "outputs": [],
   "source": [
    "# 2.\n",
    "import numpy as np\n",
    "\n",
    "#take in an array\n",
    "print('Feed me an array... W_[OmO]_W ')\n",
    "n = int(input('Number of elements: '))\n",
    "ARR = []\n",
    "for i in range(0,n):\n",
    "    ele = float(input())\n",
    "    ARR.append(ele)\n",
    "ARR = np.array(ARR)\n",
    "\n",
    "#Function defined\n",
    "def F_x(x):\n",
    "    return  x**3 + x*np.exp(x) + 1\n",
    "\n",
    "ANS = F_x(ARR)\n",
    "\n",
    "print('Your array: ')\n",
    "print(ARR)\n",
    "print('Your answer: ')\n",
    "print(ANS)\n",
    "\n"
   ]
  },
  {
   "cell_type": "code",
   "execution_count": 18,
   "metadata": {},
   "outputs": [
    {
     "name": "stdout",
     "output_type": "stream",
     "text": [
      "I need two 3D vectors, please\n",
      "What is the first vector?: \n",
      "1\n",
      "2\n",
      "3\n",
      "What is the second vector?: \n",
      "5\n",
      "4\n",
      "3\n",
      "The two vectors are neither\n"
     ]
    }
   ],
   "source": [
    "# 3.\n",
    "\n",
    "import numpy as np\n",
    "\n",
    "print('I need two 3D vectors, please')\n",
    "print('What is the first vector?: ')\n",
    "\n",
    "x,y = [],[]\n",
    "for i in range(0,3):\n",
    "    x.append(float(input()))\n",
    "\n",
    "print('What is the second vector?: ')\n",
    "for i in range(0,3):\n",
    "    y.append(float(input()))\n",
    "\n",
    "\n",
    "comp_c = np.cross(x,y)\n",
    "comp_d = np.dot(x,y)\n",
    "\n",
    "if not comp_c.any():\n",
    "    out = 'Parallel'\n",
    "elif comp_d == 0:\n",
    "    out = 'Perpendicular'\n",
    "else:\n",
    "    out = 'neither'\n",
    "\n",
    "print('The two vectors are %s'  % (out))"
   ]
  },
  {
   "cell_type": "markdown",
   "metadata": {},
   "source": [
    "# Higher Dimensional Arrays\n",
    "\n",
    "Numpy can handle and manipulate 2 and 3D arrays."
   ]
  },
  {
   "cell_type": "code",
   "execution_count": 13,
   "metadata": {},
   "outputs": [
    {
     "name": "stdout",
     "output_type": "stream",
     "text": [
      "[[[1. 1. 1.]\n",
      "  [1. 1. 1.]\n",
      "  [1. 1. 1.]]\n",
      "\n",
      " [[1. 1. 1.]\n",
      "  [1. 1. 1.]\n",
      "  [1. 1. 1.]]\n",
      "\n",
      " [[1. 1. 1.]\n",
      "  [1. 1. 1.]\n",
      "  [1. 1. 1.]]]\n"
     ]
    }
   ],
   "source": [
    "# We can make a 3 dimensional array of 1's. Imagine a 3x3x3 cube. \n",
    "# When we print this matrix, we see each slice of the cube.\n",
    "x3D = np.ones((3,3,3))\n",
    "print(x3D)"
   ]
  },
  {
   "cell_type": "code",
   "execution_count": 14,
   "metadata": {},
   "outputs": [
    {
     "name": "stdout",
     "output_type": "stream",
     "text": [
      "2D array:\n",
      " [[3 4]\n",
      " [5 7]]\n",
      "Transpose:\n",
      " [[3 5]\n",
      " [4 7]]\n",
      "1x4 array:\n",
      " [[3 4 5 7]]\n"
     ]
    }
   ],
   "source": [
    "# Make a 2d array\n",
    "twoD_Array = np.array([[3,4],[5,7]])\n",
    "\n",
    "print(\"2D array:\\n\", twoD_Array)\n",
    "print(\"Transpose:\\n\", twoD_Array.T)\n",
    "\n",
    "reshaped_arr = np.reshape(twoD_Array,(1,4))\n",
    "print(\"1x4 array:\\n\", reshaped_arr)"
   ]
  },
  {
   "cell_type": "markdown",
   "metadata": {},
   "source": [
    "Numpy matrices can be created via numpy array routines as we saw above, and with functions like `numpy.zeros()` `numpy.ones()`, `numpy.ones_like()`\n",
    "\n",
    "And different sections of the matrix can be accessed via `numpy.diag()`, `numpy.tril()`, `numpy.triu()`\n",
    "\n",
    "And the matrix object can be compressed back into a 1D array with `[mat_obj].flatten()`"
   ]
  },
  {
   "cell_type": "markdown",
   "metadata": {},
   "source": [
    "# Linear Algebra\n",
    "\n",
    "* Linear algebra python packages\n",
    "    * scipy.linalg\n",
    "    * numpy.linalg\n",
    "* Eigenvectors/eigenvalues found with eig command\n",
    "    * eval, eVec = linalg.eig(A)"
   ]
  },
  {
   "cell_type": "markdown",
   "metadata": {},
   "source": [
    "# Practicals! Do 4-6\n",
    "\n",
    "4. Create an array between 0 and 100 with N$*$M steps. Convert this into an NxM matrix\n",
    "\n",
    "5. Write a function that takes a 1x2 array and an angle. Multiply the array by the rotation matrix R and return the rotated array: $R = \\begin{bmatrix} cos\\theta & -sin\\theta \\\\ sin\\theta & cos\\theta \\end{bmatrix}$\n",
    "\n",
    "6. Create a matrix and show that U_inverse$*$A$*$U = diagonal matrix\n",
    "    * U is matrix of eigenvectors\n",
    "    * print eigenvalues and compare to your answer"
   ]
  },
  {
   "cell_type": "code",
   "execution_count": null,
   "metadata": {},
   "outputs": [],
   "source": [
    "# 4.\n",
    "\n"
   ]
  },
  {
   "cell_type": "code",
   "execution_count": null,
   "metadata": {},
   "outputs": [],
   "source": [
    "# 5.\n",
    "\n"
   ]
  },
  {
   "cell_type": "code",
   "execution_count": 16,
   "metadata": {},
   "outputs": [
    {
     "name": "stdout",
     "output_type": "stream",
     "text": [
      "[2. 9. 1.] [[ 1.          0.49613894  0.81461308]\n",
      " [ 0.          0.          0.54307539]\n",
      " [ 0.          0.86824314 -0.20365327]]\n",
      "[[ 2.00000000e+00  2.32010864e-16 -8.19306347e-17]\n",
      " [ 0.00000000e+00  9.00000000e+00 -2.42161277e-16]\n",
      " [ 0.00000000e+00  0.00000000e+00  1.00000000e+00]]\n"
     ]
    }
   ],
   "source": [
    "# 6.\n",
    "\n",
    "import numpy as np\n",
    "from numpy import linalg\n",
    "\n",
    "A = [[2,0,4], [0, 1, 0], [0, 3, 9]]\n",
    "\n",
    "eVals, eVecs = linalg.eig(A)\n",
    "print(eVals, eVecs)\n",
    "\n",
    "\n",
    "eVecs = np.mat(eVecs)\n",
    "AA = np.mat(A)\n",
    "\n",
    "\n",
    "print(eVecs.I * AA * eVecs)"
   ]
  },
  {
   "cell_type": "markdown",
   "metadata": {},
   "source": [
    "# Random Numbers\n",
    "\n",
    "Generating random numbers is a science in itself when it comes to computation. Generally, there are two methods that are the most useful for us: `numpy.random` and `scipy.random`\n",
    "\n",
    "The `random` function in the `numpy.random` class which returns a list of random numbers in the range 0,1\n",
    "\n",
    "There are also other functions that produce random numbers in a specified distribution (e.g. poisson, uniform, triangular, etc.)\n",
    "\n",
    "\n",
    "http://docs.scipy.org/doc/numpy/reference/routines.random.html"
   ]
  },
  {
   "cell_type": "code",
   "execution_count": 15,
   "metadata": {},
   "outputs": [
    {
     "name": "stdout",
     "output_type": "stream",
     "text": [
      "[0.30049554 0.26174397 0.25300862 0.41550038 0.88581038 0.77183593\n",
      " 0.2462821  0.87571267 0.79375384 0.99736568]\n"
     ]
    }
   ],
   "source": [
    "print(np.random.random(10))"
   ]
  },
  {
   "cell_type": "markdown",
   "metadata": {},
   "source": [
    "# Other Routines\n",
    "\n",
    "There's also other routines in `scipy` that can be very useful.\n",
    "* Integration\n",
    "    * `scipy.integrate` module\n",
    "* Fourier Transform\n",
    "    * Module `scypi` (or `numpy`)`.fft`\n",
    "* Curve Fitting\n",
    "    * `scipy.optimize.curve_fit()`"
   ]
  }
 ],
 "metadata": {
  "kernelspec": {
   "display_name": "Python 3",
   "language": "python",
   "name": "python3"
  },
  "language_info": {
   "codemirror_mode": {
    "name": "ipython",
    "version": 3
   },
   "file_extension": ".py",
   "mimetype": "text/x-python",
   "name": "python",
   "nbconvert_exporter": "python",
   "pygments_lexer": "ipython3",
   "version": "3.7.7"
  }
 },
 "nbformat": 4,
 "nbformat_minor": 4
}
